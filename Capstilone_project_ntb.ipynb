{
  "nbformat": 4,
  "nbformat_minor": 0,
  "metadata": {
    "colab": {
      "name": "Capstilone_project_ntb.ipynb",
      "provenance": [],
      "toc_visible": true,
      "include_colab_link": true
    },
    "kernelspec": {
      "name": "python3",
      "display_name": "Python 3"
    }
  },
  "cells": [
    {
      "cell_type": "markdown",
      "metadata": {
        "id": "view-in-github",
        "colab_type": "text"
      },
      "source": [
        "<a href=\"https://colab.research.google.com/github/Karansingh005/Battle_of_Neighbourhoods/blob/master/Capstilone_project_ntb.ipynb\" target=\"_parent\"><img src=\"https://colab.research.google.com/assets/colab-badge.svg\" alt=\"Open In Colab\"/></a>"
      ]
    },
    {
      "cell_type": "markdown",
      "metadata": {
        "id": "EhYg66GWUf5A",
        "colab_type": "text"
      },
      "source": [
        "##Importing all the necesary libraries "
      ]
    },
    {
      "cell_type": "code",
      "metadata": {
        "id": "-sTJnaKnUwut",
        "colab_type": "code",
        "outputId": "54e776e7-b375-4fff-c7ef-f14d954c5bea",
        "colab": {
          "base_uri": "https://localhost:8080/",
          "height": 90
        }
      },
      "source": [
        "import requests # library to handle requests\n",
        "import pandas as pd # library for data analsysis\n",
        "import numpy as np # library to handle data in a vectorized manner\n",
        "import random # library for random number generation\n",
        "\n",
        "!conda install -c conda-forge geopy --yes \n",
        "from geopy.geocoders import Nominatim # module to convert an address into latitude and longitude values\n",
        "\n",
        "# libraries for displaying images\n",
        "from IPython.display import Image \n",
        "from IPython.core.display import HTML \n",
        "    \n",
        "# tranforming json file into a pandas dataframe library\n",
        "from pandas.io.json import json_normalize\n",
        "\n",
        "!conda install -c conda-forge folium=0.5.0 --yes\n",
        "import folium # plotting library\n",
        "\n",
        "print('Folium installed')\n",
        "print('Libraries imported.')"
      ],
      "execution_count": 1,
      "outputs": [
        {
          "output_type": "stream",
          "text": [
            "/bin/bash: conda: command not found\n",
            "/bin/bash: conda: command not found\n",
            "Folium installed\n",
            "Libraries imported.\n"
          ],
          "name": "stdout"
        }
      ]
    },
    {
      "cell_type": "markdown",
      "metadata": {
        "id": "clknioEqU6nN",
        "colab_type": "text"
      },
      "source": [
        "##Define Foursquare Credentials and Version"
      ]
    },
    {
      "cell_type": "code",
      "metadata": {
        "id": "uSj0KfYWUzEN",
        "colab_type": "code",
        "outputId": "3565176b-7f9a-4b0f-e20c-80427ca3f501",
        "colab": {
          "base_uri": "https://localhost:8080/",
          "height": 72
        }
      },
      "source": [
        "CLIENT_ID = '50C0PKFVLEE3JHSXCJR1AACOWVPS1DAMMHPZHLDR10TR0CKX' # your Foursquare ID\n",
        "CLIENT_SECRET = 'P1XJZQJEFLLKI3HXJYHXXUID1DCAFUKRWFFN3BRVTEHXWW4W' # your Foursquare Secret\n",
        "VERSION = '20180604'\n",
        "LIMIT = 30\n",
        "print('Your credentails:')\n",
        "print('CLIENT_ID: ' + CLIENT_ID)\n",
        "print('CLIENT_SECRET:' + CLIENT_SECRET)"
      ],
      "execution_count": 2,
      "outputs": [
        {
          "output_type": "stream",
          "text": [
            "Your credentails:\n",
            "CLIENT_ID: 50C0PKFVLEE3JHSXCJR1AACOWVPS1DAMMHPZHLDR10TR0CKX\n",
            "CLIENT_SECRET:P1XJZQJEFLLKI3HXJYHXXUID1DCAFUKRWFFN3BRVTEHXWW4W\n"
          ],
          "name": "stdout"
        }
      ]
    },
    {
      "cell_type": "markdown",
      "metadata": {
        "id": "iNGWV-fZVP_U",
        "colab_type": "text"
      },
      "source": [
        "## Extratcing Data"
      ]
    },
    {
      "cell_type": "markdown",
      "metadata": {
        "id": "9bGgC6a4VTts",
        "colab_type": "text"
      },
      "source": [
        "###Specifying the search category"
      ]
    },
    {
      "cell_type": "code",
      "metadata": {
        "id": "jIoc20XFVED7",
        "colab_type": "code",
        "outputId": "20f42a64-2db4-47a8-d8f4-154a499a6e27",
        "colab": {
          "base_uri": "https://localhost:8080/",
          "height": 35
        }
      },
      "source": [
        "search_query = 'Indian'\n",
        "radius = 500\n",
        "print(search_query + ' .... OK!')"
      ],
      "execution_count": 3,
      "outputs": [
        {
          "output_type": "stream",
          "text": [
            "Indian .... OK!\n"
          ],
          "name": "stdout"
        }
      ]
    },
    {
      "cell_type": "markdown",
      "metadata": {
        "id": "XxEioaN-VimC",
        "colab_type": "text"
      },
      "source": [
        "### Specifying the loaction of New York"
      ]
    },
    {
      "cell_type": "code",
      "metadata": {
        "id": "RAJz2rDMV-rN",
        "colab_type": "code",
        "outputId": "bacd7cf6-7b19-4b31-b7c1-27f451e992c5",
        "colab": {
          "base_uri": "https://localhost:8080/",
          "height": 35
        }
      },
      "source": [
        "address = 'New York, NY'\n",
        "\n",
        "geolocator = Nominatim(user_agent=\"foursquare_agent\")\n",
        "location = geolocator.geocode(address)\n",
        "latitude = location.latitude\n",
        "longitude = location.longitude\n",
        "print(latitude, longitude)"
      ],
      "execution_count": 4,
      "outputs": [
        {
          "output_type": "stream",
          "text": [
            "40.7127281 -74.0060152\n"
          ],
          "name": "stdout"
        }
      ]
    },
    {
      "cell_type": "markdown",
      "metadata": {
        "id": "u5lT6l8dV_Us",
        "colab_type": "text"
      },
      "source": [
        "### Specifying URL"
      ]
    },
    {
      "cell_type": "code",
      "metadata": {
        "id": "u9wQlKecVNIO",
        "colab_type": "code",
        "outputId": "28ba11ed-2dfd-4d0b-8fdf-6d3ce20d6e08",
        "colab": {
          "base_uri": "https://localhost:8080/",
          "height": 55
        }
      },
      "source": [
        "url = 'https://api.foursquare.com/v2/venues/search?client_id={}&client_secret={}&ll={},{}&v={}&query={}&radius={}&limit={}'.format(CLIENT_ID, CLIENT_SECRET, latitude, longitude, VERSION, search_query, radius, LIMIT)\n",
        "url"
      ],
      "execution_count": 5,
      "outputs": [
        {
          "output_type": "execute_result",
          "data": {
            "text/plain": [
              "'https://api.foursquare.com/v2/venues/search?client_id=50C0PKFVLEE3JHSXCJR1AACOWVPS1DAMMHPZHLDR10TR0CKX&client_secret=P1XJZQJEFLLKI3HXJYHXXUID1DCAFUKRWFFN3BRVTEHXWW4W&ll=40.7127281,-74.0060152&v=20180604&query=Indian&radius=500&limit=30'"
            ]
          },
          "metadata": {
            "tags": []
          },
          "execution_count": 5
        }
      ]
    },
    {
      "cell_type": "markdown",
      "metadata": {
        "id": "MtNSqe1ZW15a",
        "colab_type": "text"
      },
      "source": [
        "###Fetching the results"
      ]
    },
    {
      "cell_type": "code",
      "metadata": {
        "id": "9dXo6eXIVzQc",
        "colab_type": "code",
        "outputId": "c00a3284-ef02-43e0-e525-1b76f2e7af5a",
        "colab": {
          "base_uri": "https://localhost:8080/",
          "height": 1000
        }
      },
      "source": [
        "results_nyc = requests.get(url).json()\n",
        "results_nyc"
      ],
      "execution_count": 6,
      "outputs": [
        {
          "output_type": "execute_result",
          "data": {
            "text/plain": [
              "{'meta': {'code': 200, 'requestId': '5dc7deb592e7a9002c7cc109'},\n",
              " 'response': {'venues': [{'categories': [{'icon': {'prefix': 'https://ss3.4sqi.net/img/categories_v2/food/indian_',\n",
              "       'suffix': '.png'},\n",
              "      'id': '4bf58dd8d48988d10f941735',\n",
              "      'name': 'Indian Restaurant',\n",
              "      'pluralName': 'Indian Restaurants',\n",
              "      'primary': True,\n",
              "      'shortName': 'Indian'}],\n",
              "    'delivery': {'id': '275521',\n",
              "     'provider': {'icon': {'name': '/delivery_provider_seamless_20180129.png',\n",
              "       'prefix': 'https://fastly.4sqi.net/img/general/cap/',\n",
              "       'sizes': [40, 50]},\n",
              "      'name': 'seamless'},\n",
              "     'url': 'https://www.seamless.com/menu/a-saffron-thread-98-chambers-st-new-york/275521?affiliate=1131&utm_source=foursquare-affiliate-network&utm_medium=affiliate&utm_campaign=1131&utm_content=275521'},\n",
              "    'hasPerk': False,\n",
              "    'id': '510aad1ae4b0bfb2583169b9',\n",
              "    'location': {'address': '98 Chambers St',\n",
              "     'cc': 'US',\n",
              "     'city': 'New York',\n",
              "     'country': 'United States',\n",
              "     'crossStreet': 'at Church St',\n",
              "     'distance': 272,\n",
              "     'formattedAddress': ['98 Chambers St (at Church St)',\n",
              "      'New York, NY 10007',\n",
              "      'United States'],\n",
              "     'labeledLatLngs': [{'label': 'display',\n",
              "       'lat': 40.71482256030567,\n",
              "       'lng': -74.00768924078284}],\n",
              "     'lat': 40.71482256030567,\n",
              "     'lng': -74.00768924078284,\n",
              "     'postalCode': '10007',\n",
              "     'state': 'NY'},\n",
              "    'name': 'A Saffron Thread Fresh Indian',\n",
              "    'referralId': 'v-1573379765',\n",
              "    'venuePage': {'id': '432263795'}},\n",
              "   {'categories': [{'icon': {'prefix': 'https://ss3.4sqi.net/img/categories_v2/food/streetfood_',\n",
              "       'suffix': '.png'},\n",
              "      'id': '4bf58dd8d48988d1cb941735',\n",
              "      'name': 'Food Truck',\n",
              "      'pluralName': 'Food Trucks',\n",
              "      'primary': True,\n",
              "      'shortName': 'Food Truck'}],\n",
              "    'hasPerk': False,\n",
              "    'id': '5072fe2eb0ed0fcce2497f30',\n",
              "    'location': {'address': 'Water St',\n",
              "     'cc': 'US',\n",
              "     'city': 'New York',\n",
              "     'country': 'United States',\n",
              "     'crossStreet': 'btwn Maiden Lane & Pine St',\n",
              "     'distance': 520,\n",
              "     'formattedAddress': ['Water St (btwn Maiden Lane & Pine St)',\n",
              "      'New York, NY 10005',\n",
              "      'United States'],\n",
              "     'labeledLatLngs': [{'label': 'display',\n",
              "       'lat': 40.71461902180173,\n",
              "       'lng': -74.01165921882442}],\n",
              "     'lat': 40.71461902180173,\n",
              "     'lng': -74.01165921882442,\n",
              "     'postalCode': '10005',\n",
              "     'state': 'NY'},\n",
              "    'name': 'Indian Biryani Delights (Cart)',\n",
              "    'referralId': 'v-1573379765'},\n",
              "   {'categories': [{'icon': {'prefix': 'https://ss3.4sqi.net/img/categories_v2/food/streetfood_',\n",
              "       'suffix': '.png'},\n",
              "      'id': '4bf58dd8d48988d1cb941735',\n",
              "      'name': 'Food Truck',\n",
              "      'pluralName': 'Food Trucks',\n",
              "      'primary': True,\n",
              "      'shortName': 'Food Truck'}],\n",
              "    'hasPerk': False,\n",
              "    'id': '573f435b498e03b8bb8582c7',\n",
              "    'location': {'address': '140 Broadway',\n",
              "     'cc': 'US',\n",
              "     'city': 'New York',\n",
              "     'country': 'United States',\n",
              "     'distance': 4304,\n",
              "     'formattedAddress': ['140 Broadway',\n",
              "      'New York, NY 10005',\n",
              "      'United States'],\n",
              "     'labeledLatLngs': [{'label': 'display',\n",
              "       'lat': 40.74983405175337,\n",
              "       'lng': -73.99165450210911}],\n",
              "     'lat': 40.74983405175337,\n",
              "     'lng': -73.99165450210911,\n",
              "     'neighborhood': 'Tribeca',\n",
              "     'postalCode': '10005',\n",
              "     'state': 'NY'},\n",
              "    'name': 'Indian king Biriyani House',\n",
              "    'referralId': 'v-1573379765'},\n",
              "   {'categories': [{'icon': {'prefix': 'https://ss3.4sqi.net/img/categories_v2/food/streetfood_',\n",
              "       'suffix': '.png'},\n",
              "      'id': '4bf58dd8d48988d1cb941735',\n",
              "      'name': 'Food Truck',\n",
              "      'pluralName': 'Food Trucks',\n",
              "      'primary': True,\n",
              "      'shortName': 'Food Truck'}],\n",
              "    'hasPerk': False,\n",
              "    'id': '5d18e90b96ba5e00232c527f',\n",
              "    'location': {'cc': 'US',\n",
              "     'city': 'New York',\n",
              "     'country': 'United States',\n",
              "     'distance': 530,\n",
              "     'formattedAddress': ['New York, NY 10007', 'United States'],\n",
              "     'labeledLatLngs': [{'label': 'display',\n",
              "       'lat': 40.71538,\n",
              "       'lng': -74.011246}],\n",
              "     'lat': 40.71538,\n",
              "     'lng': -74.011246,\n",
              "     'postalCode': '10007',\n",
              "     'state': 'NY'},\n",
              "    'name': 'Bismilla Indian Biryani House',\n",
              "    'referralId': 'v-1573379765'},\n",
              "   {'categories': [{'icon': {'prefix': 'https://ss3.4sqi.net/img/categories_v2/food/indian_',\n",
              "       'suffix': '.png'},\n",
              "      'id': '4bf58dd8d48988d10f941735',\n",
              "      'name': 'Indian Restaurant',\n",
              "      'pluralName': 'Indian Restaurants',\n",
              "      'primary': True,\n",
              "      'shortName': 'Indian'}],\n",
              "    'delivery': {'id': '333939',\n",
              "     'provider': {'icon': {'name': '/delivery_provider_seamless_20180129.png',\n",
              "       'prefix': 'https://fastly.4sqi.net/img/general/cap/',\n",
              "       'sizes': [40, 50]},\n",
              "      'name': 'seamless'},\n",
              "     'url': 'https://www.seamless.com/menu/aahar-indian-cuisine-10-murray-st-new-york/333939?affiliate=1131&utm_source=foursquare-affiliate-network&utm_medium=affiliate&utm_campaign=1131&utm_content=333939'},\n",
              "    'hasPerk': False,\n",
              "    'id': '575dea4c498e2739e43a27e2',\n",
              "    'location': {'address': '10 Murray St',\n",
              "     'cc': 'US',\n",
              "     'city': 'New York',\n",
              "     'country': 'United States',\n",
              "     'crossStreet': 'Broadway',\n",
              "     'distance': 178,\n",
              "     'formattedAddress': ['10 Murray St (Broadway)',\n",
              "      'New York, NY 10007',\n",
              "      'United States'],\n",
              "     'labeledLatLngs': [{'label': 'display',\n",
              "       'lat': 40.71330656515891,\n",
              "       'lng': -74.00799405698501}],\n",
              "     'lat': 40.71330656515891,\n",
              "     'lng': -74.00799405698501,\n",
              "     'postalCode': '10007',\n",
              "     'state': 'NY'},\n",
              "    'name': 'Aahar Indian Cuisine',\n",
              "    'referralId': 'v-1573379765'},\n",
              "   {'categories': [{'icon': {'prefix': 'https://ss3.4sqi.net/img/categories_v2/food/streetfood_',\n",
              "       'suffix': '.png'},\n",
              "      'id': '4bf58dd8d48988d1cb941735',\n",
              "      'name': 'Food Truck',\n",
              "      'pluralName': 'Food Trucks',\n",
              "      'primary': True,\n",
              "      'shortName': 'Food Truck'}],\n",
              "    'hasPerk': False,\n",
              "    'id': '553fb844498e6cc1b6da5ce4',\n",
              "    'location': {'cc': 'US',\n",
              "     'city': 'New York',\n",
              "     'country': 'United States',\n",
              "     'distance': 566,\n",
              "     'formattedAddress': ['New York, NY', 'United States'],\n",
              "     'labeledLatLngs': [{'label': 'display',\n",
              "       'lat': 40.708589307803415,\n",
              "       'lng': -74.00992624807343}],\n",
              "     'lat': 40.708589307803415,\n",
              "     'lng': -74.00992624807343,\n",
              "     'state': 'NY'},\n",
              "    'name': 'Indian Biryani House',\n",
              "    'referralId': 'v-1573379765'},\n",
              "   {'categories': [{'icon': {'prefix': 'https://ss3.4sqi.net/img/categories_v2/food/indian_',\n",
              "       'suffix': '.png'},\n",
              "      'id': '4bf58dd8d48988d10f941735',\n",
              "      'name': 'Indian Restaurant',\n",
              "      'pluralName': 'Indian Restaurants',\n",
              "      'primary': True,\n",
              "      'shortName': 'Indian'}],\n",
              "    'hasPerk': False,\n",
              "    'id': '4a948b83f964a520f32120e3',\n",
              "    'location': {'address': '18 Murray St',\n",
              "     'cc': 'US',\n",
              "     'city': 'New York',\n",
              "     'country': 'United States',\n",
              "     'crossStreet': 'Church St.',\n",
              "     'distance': 221,\n",
              "     'formattedAddress': ['18 Murray St (Church St.)',\n",
              "      'New York, NY 10007',\n",
              "      'United States'],\n",
              "     'labeledLatLngs': [{'label': 'display',\n",
              "       'lat': 40.71364680217225,\n",
              "       'lng': -74.00834798812866}],\n",
              "     'lat': 40.71364680217225,\n",
              "     'lng': -74.00834798812866,\n",
              "     'postalCode': '10007',\n",
              "     'state': 'NY'},\n",
              "    'name': 'Indian Express',\n",
              "    'referralId': 'v-1573379765'},\n",
              "   {'categories': [{'icon': {'prefix': 'https://ss3.4sqi.net/img/categories_v2/shops/apparel_',\n",
              "       'suffix': '.png'},\n",
              "      'id': '4bf58dd8d48988d103951735',\n",
              "      'name': 'Clothing Store',\n",
              "      'pluralName': 'Clothing Stores',\n",
              "      'primary': True,\n",
              "      'shortName': 'Apparel'}],\n",
              "    'hasPerk': False,\n",
              "    'id': '574eab2a498e3f5530cfdbca',\n",
              "    'location': {'address': '100 Church St',\n",
              "     'cc': 'US',\n",
              "     'city': 'New York',\n",
              "     'country': 'United States',\n",
              "     'distance': 350,\n",
              "     'formattedAddress': ['100 Church St',\n",
              "      'New York, NY 10007',\n",
              "      'United States'],\n",
              "     'labeledLatLngs': [{'label': 'display',\n",
              "       'lat': 40.71228057311295,\n",
              "       'lng': -74.01012897491455}],\n",
              "     'lat': 40.71228057311295,\n",
              "     'lng': -74.01012897491455,\n",
              "     'postalCode': '10007',\n",
              "     'state': 'NY'},\n",
              "    'name': 'Indian Beautiful Art (IBA) Crafts PVT Ltd',\n",
              "    'referralId': 'v-1573379765'},\n",
              "   {'categories': [{'icon': {'prefix': 'https://ss3.4sqi.net/img/categories_v2/shops/design_',\n",
              "       'suffix': '.png'},\n",
              "      'id': '4bf58dd8d48988d1f4941735',\n",
              "      'name': 'Design Studio',\n",
              "      'pluralName': 'Design Studios',\n",
              "      'primary': True,\n",
              "      'shortName': 'Design'}],\n",
              "    'hasPerk': False,\n",
              "    'id': '574e8ba2cd10da9c722374fb',\n",
              "    'location': {'address': '100 Church St',\n",
              "     'cc': 'US',\n",
              "     'city': 'New York',\n",
              "     'country': 'United States',\n",
              "     'distance': 382,\n",
              "     'formattedAddress': ['100 Church St',\n",
              "      'New York, NY 10007',\n",
              "      'United States'],\n",
              "     'labeledLatLngs': [{'label': 'display',\n",
              "       'lat': 40.71613521878094,\n",
              "       'lng': -74.00660991668701}],\n",
              "     'lat': 40.71613521878094,\n",
              "     'lng': -74.00660991668701,\n",
              "     'postalCode': '10007',\n",
              "     'state': 'NY'},\n",
              "    'name': 'Indian Beautiful Art (IBA) Crafts PVT Ltd',\n",
              "    'referralId': 'v-1573379765'},\n",
              "   {'categories': [{'icon': {'prefix': 'https://ss3.4sqi.net/img/categories_v2/food/indian_',\n",
              "       'suffix': '.png'},\n",
              "      'id': '4bf58dd8d48988d10f941735',\n",
              "      'name': 'Indian Restaurant',\n",
              "      'pluralName': 'Indian Restaurants',\n",
              "      'primary': True,\n",
              "      'shortName': 'Indian'}],\n",
              "    'hasPerk': False,\n",
              "    'id': '5730b7a9498ef7b05c09c07f',\n",
              "    'location': {'address': '176 Church Street',\n",
              "     'cc': 'US',\n",
              "     'city': 'New York',\n",
              "     'country': 'United States',\n",
              "     'crossStreet': 'between Duane and Reade Streets',\n",
              "     'distance': 346,\n",
              "     'formattedAddress': ['176 Church Street (between Duane and Reade Streets)',\n",
              "      'New York, NY',\n",
              "      'United States'],\n",
              "     'labeledLatLngs': [{'label': 'display',\n",
              "       'lat': 40.715614,\n",
              "       'lng': -74.007545}],\n",
              "     'lat': 40.715614,\n",
              "     'lng': -74.007545,\n",
              "     'state': 'NY'},\n",
              "    'name': \"Baluchi's Indian\",\n",
              "    'referralId': 'v-1573379765'},\n",
              "   {'categories': [{'icon': {'prefix': 'https://ss3.4sqi.net/img/categories_v2/food/indian_',\n",
              "       'suffix': '.png'},\n",
              "      'id': '4bf58dd8d48988d10f941735',\n",
              "      'name': 'Indian Restaurant',\n",
              "      'pluralName': 'Indian Restaurants',\n",
              "      'primary': True,\n",
              "      'shortName': 'Indian'}],\n",
              "    'hasPerk': False,\n",
              "    'id': '50a5221fe4b0dea0468d43d1',\n",
              "    'location': {'address': '53 Nassau St',\n",
              "     'cc': 'US',\n",
              "     'city': 'New York',\n",
              "     'country': 'United States',\n",
              "     'crossStreet': 'maiden lane & liberty',\n",
              "     'distance': 500,\n",
              "     'formattedAddress': ['53 Nassau St (maiden lane & liberty)',\n",
              "      'New York, NY 10038',\n",
              "      'United States'],\n",
              "     'labeledLatLngs': [{'label': 'display',\n",
              "       'lat': 40.708885192871094,\n",
              "       'lng': -74.00909423828125}],\n",
              "     'lat': 40.708885192871094,\n",
              "     'lng': -74.00909423828125,\n",
              "     'postalCode': '10038',\n",
              "     'state': 'NY'},\n",
              "    'name': 'smart indian cuisine',\n",
              "    'referralId': 'v-1573379765'},\n",
              "   {'categories': [{'icon': {'prefix': 'https://ss3.4sqi.net/img/categories_v2/food/middleeastern_',\n",
              "       'suffix': '.png'},\n",
              "      'id': '4bf58dd8d48988d115941735',\n",
              "      'name': 'Middle Eastern Restaurant',\n",
              "      'pluralName': 'Middle Eastern Restaurants',\n",
              "      'primary': True,\n",
              "      'shortName': 'Middle Eastern'}],\n",
              "    'hasPerk': False,\n",
              "    'id': '4c4890da1879c9b6cce6e143',\n",
              "    'location': {'address': '183 Church St',\n",
              "     'cc': 'US',\n",
              "     'city': 'New York',\n",
              "     'country': 'United States',\n",
              "     'crossStreet': 'btwn Duane & Reade St.',\n",
              "     'distance': 355,\n",
              "     'formattedAddress': ['183 Church St (btwn Duane & Reade St.)',\n",
              "      'New York, NY 10007',\n",
              "      'United States'],\n",
              "     'labeledLatLngs': [{'label': 'display',\n",
              "       'lat': 40.71578949233164,\n",
              "       'lng': -74.00722736485034}],\n",
              "     'lat': 40.71578949233164,\n",
              "     'lng': -74.00722736485034,\n",
              "     'postalCode': '10007',\n",
              "     'state': 'NY'},\n",
              "    'name': 'New Shezan Restaurant',\n",
              "    'referralId': 'v-1573379765'},\n",
              "   {'categories': [{'icon': {'prefix': 'https://ss3.4sqi.net/img/categories_v2/food/indian_',\n",
              "       'suffix': '.png'},\n",
              "      'id': '4bf58dd8d48988d10f941735',\n",
              "      'name': 'Indian Restaurant',\n",
              "      'pluralName': 'Indian Restaurants',\n",
              "      'primary': True,\n",
              "      'shortName': 'Indian'}],\n",
              "    'delivery': {'id': '26275',\n",
              "     'provider': {'icon': {'name': '/delivery_provider_seamless_20180129.png',\n",
              "       'prefix': 'https://fastly.4sqi.net/img/general/cap/',\n",
              "       'sizes': [40, 50]},\n",
              "      'name': 'seamless'},\n",
              "     'url': 'https://www.seamless.com/menu/salaam-bombay-319-greenwich-st-ste-1-new-york/26275?affiliate=1131&utm_source=foursquare-affiliate-network&utm_medium=affiliate&utm_campaign=1131&utm_content=26275'},\n",
              "    'hasPerk': False,\n",
              "    'id': '4aef32f7f964a52081d621e3',\n",
              "    'location': {'address': '317 Greenwich St',\n",
              "     'cc': 'US',\n",
              "     'city': 'New York',\n",
              "     'country': 'United States',\n",
              "     'crossStreet': 'Reade St',\n",
              "     'distance': 625,\n",
              "     'formattedAddress': ['317 Greenwich St (Reade St)',\n",
              "      'New York, NY 10013',\n",
              "      'United States'],\n",
              "     'labeledLatLngs': [{'label': 'display',\n",
              "       'lat': 40.71695381665769,\n",
              "       'lng': -74.01090509661432}],\n",
              "     'lat': 40.71695381665769,\n",
              "     'lng': -74.01090509661432,\n",
              "     'postalCode': '10013',\n",
              "     'state': 'NY'},\n",
              "    'name': 'Salaam Bombay',\n",
              "    'referralId': 'v-1573379765',\n",
              "    'venuePage': {'id': '71423083'}}]}}"
            ]
          },
          "metadata": {
            "tags": []
          },
          "execution_count": 6
        }
      ]
    },
    {
      "cell_type": "markdown",
      "metadata": {
        "id": "ZolueIe_XCGs",
        "colab_type": "text"
      },
      "source": [
        "### Generating the Dataframe for New York"
      ]
    },
    {
      "cell_type": "code",
      "metadata": {
        "id": "0zVHQcmJW7Fv",
        "colab_type": "code",
        "outputId": "e1ce0f76-f096-4bbd-98d0-c4fb1a866c5c",
        "colab": {
          "base_uri": "https://localhost:8080/",
          "height": 487
        }
      },
      "source": [
        "venues = results_nyc['response']['venues']\n",
        "\n",
        "df_nyc = json_normalize(venues)\n",
        "df_nyc.head()"
      ],
      "execution_count": 7,
      "outputs": [
        {
          "output_type": "execute_result",
          "data": {
            "text/html": [
              "<div>\n",
              "<style scoped>\n",
              "    .dataframe tbody tr th:only-of-type {\n",
              "        vertical-align: middle;\n",
              "    }\n",
              "\n",
              "    .dataframe tbody tr th {\n",
              "        vertical-align: top;\n",
              "    }\n",
              "\n",
              "    .dataframe thead th {\n",
              "        text-align: right;\n",
              "    }\n",
              "</style>\n",
              "<table border=\"1\" class=\"dataframe\">\n",
              "  <thead>\n",
              "    <tr style=\"text-align: right;\">\n",
              "      <th></th>\n",
              "      <th>id</th>\n",
              "      <th>name</th>\n",
              "      <th>categories</th>\n",
              "      <th>referralId</th>\n",
              "      <th>hasPerk</th>\n",
              "      <th>location.address</th>\n",
              "      <th>location.crossStreet</th>\n",
              "      <th>location.lat</th>\n",
              "      <th>location.lng</th>\n",
              "      <th>location.labeledLatLngs</th>\n",
              "      <th>location.distance</th>\n",
              "      <th>location.postalCode</th>\n",
              "      <th>location.cc</th>\n",
              "      <th>location.city</th>\n",
              "      <th>location.state</th>\n",
              "      <th>location.country</th>\n",
              "      <th>location.formattedAddress</th>\n",
              "      <th>delivery.id</th>\n",
              "      <th>delivery.url</th>\n",
              "      <th>delivery.provider.name</th>\n",
              "      <th>delivery.provider.icon.prefix</th>\n",
              "      <th>delivery.provider.icon.sizes</th>\n",
              "      <th>delivery.provider.icon.name</th>\n",
              "      <th>venuePage.id</th>\n",
              "      <th>location.neighborhood</th>\n",
              "    </tr>\n",
              "  </thead>\n",
              "  <tbody>\n",
              "    <tr>\n",
              "      <th>0</th>\n",
              "      <td>510aad1ae4b0bfb2583169b9</td>\n",
              "      <td>A Saffron Thread Fresh Indian</td>\n",
              "      <td>[{'id': '4bf58dd8d48988d10f941735', 'name': 'I...</td>\n",
              "      <td>v-1573379765</td>\n",
              "      <td>False</td>\n",
              "      <td>98 Chambers St</td>\n",
              "      <td>at Church St</td>\n",
              "      <td>40.714823</td>\n",
              "      <td>-74.007689</td>\n",
              "      <td>[{'label': 'display', 'lat': 40.71482256030567...</td>\n",
              "      <td>272</td>\n",
              "      <td>10007</td>\n",
              "      <td>US</td>\n",
              "      <td>New York</td>\n",
              "      <td>NY</td>\n",
              "      <td>United States</td>\n",
              "      <td>[98 Chambers St (at Church St), New York, NY 1...</td>\n",
              "      <td>275521</td>\n",
              "      <td>https://www.seamless.com/menu/a-saffron-thread...</td>\n",
              "      <td>seamless</td>\n",
              "      <td>https://fastly.4sqi.net/img/general/cap/</td>\n",
              "      <td>[40, 50]</td>\n",
              "      <td>/delivery_provider_seamless_20180129.png</td>\n",
              "      <td>432263795</td>\n",
              "      <td>NaN</td>\n",
              "    </tr>\n",
              "    <tr>\n",
              "      <th>1</th>\n",
              "      <td>5072fe2eb0ed0fcce2497f30</td>\n",
              "      <td>Indian Biryani Delights (Cart)</td>\n",
              "      <td>[{'id': '4bf58dd8d48988d1cb941735', 'name': 'F...</td>\n",
              "      <td>v-1573379765</td>\n",
              "      <td>False</td>\n",
              "      <td>Water St</td>\n",
              "      <td>btwn Maiden Lane &amp; Pine St</td>\n",
              "      <td>40.714619</td>\n",
              "      <td>-74.011659</td>\n",
              "      <td>[{'label': 'display', 'lat': 40.71461902180173...</td>\n",
              "      <td>520</td>\n",
              "      <td>10005</td>\n",
              "      <td>US</td>\n",
              "      <td>New York</td>\n",
              "      <td>NY</td>\n",
              "      <td>United States</td>\n",
              "      <td>[Water St (btwn Maiden Lane &amp; Pine St), New Yo...</td>\n",
              "      <td>NaN</td>\n",
              "      <td>NaN</td>\n",
              "      <td>NaN</td>\n",
              "      <td>NaN</td>\n",
              "      <td>NaN</td>\n",
              "      <td>NaN</td>\n",
              "      <td>NaN</td>\n",
              "      <td>NaN</td>\n",
              "    </tr>\n",
              "    <tr>\n",
              "      <th>2</th>\n",
              "      <td>573f435b498e03b8bb8582c7</td>\n",
              "      <td>Indian king Biriyani House</td>\n",
              "      <td>[{'id': '4bf58dd8d48988d1cb941735', 'name': 'F...</td>\n",
              "      <td>v-1573379765</td>\n",
              "      <td>False</td>\n",
              "      <td>140 Broadway</td>\n",
              "      <td>NaN</td>\n",
              "      <td>40.749834</td>\n",
              "      <td>-73.991655</td>\n",
              "      <td>[{'label': 'display', 'lat': 40.74983405175337...</td>\n",
              "      <td>4304</td>\n",
              "      <td>10005</td>\n",
              "      <td>US</td>\n",
              "      <td>New York</td>\n",
              "      <td>NY</td>\n",
              "      <td>United States</td>\n",
              "      <td>[140 Broadway, New York, NY 10005, United States]</td>\n",
              "      <td>NaN</td>\n",
              "      <td>NaN</td>\n",
              "      <td>NaN</td>\n",
              "      <td>NaN</td>\n",
              "      <td>NaN</td>\n",
              "      <td>NaN</td>\n",
              "      <td>NaN</td>\n",
              "      <td>Tribeca</td>\n",
              "    </tr>\n",
              "    <tr>\n",
              "      <th>3</th>\n",
              "      <td>5d18e90b96ba5e00232c527f</td>\n",
              "      <td>Bismilla Indian Biryani House</td>\n",
              "      <td>[{'id': '4bf58dd8d48988d1cb941735', 'name': 'F...</td>\n",
              "      <td>v-1573379765</td>\n",
              "      <td>False</td>\n",
              "      <td>NaN</td>\n",
              "      <td>NaN</td>\n",
              "      <td>40.715380</td>\n",
              "      <td>-74.011246</td>\n",
              "      <td>[{'label': 'display', 'lat': 40.71538, 'lng': ...</td>\n",
              "      <td>530</td>\n",
              "      <td>10007</td>\n",
              "      <td>US</td>\n",
              "      <td>New York</td>\n",
              "      <td>NY</td>\n",
              "      <td>United States</td>\n",
              "      <td>[New York, NY 10007, United States]</td>\n",
              "      <td>NaN</td>\n",
              "      <td>NaN</td>\n",
              "      <td>NaN</td>\n",
              "      <td>NaN</td>\n",
              "      <td>NaN</td>\n",
              "      <td>NaN</td>\n",
              "      <td>NaN</td>\n",
              "      <td>NaN</td>\n",
              "    </tr>\n",
              "    <tr>\n",
              "      <th>4</th>\n",
              "      <td>575dea4c498e2739e43a27e2</td>\n",
              "      <td>Aahar Indian Cuisine</td>\n",
              "      <td>[{'id': '4bf58dd8d48988d10f941735', 'name': 'I...</td>\n",
              "      <td>v-1573379765</td>\n",
              "      <td>False</td>\n",
              "      <td>10 Murray St</td>\n",
              "      <td>Broadway</td>\n",
              "      <td>40.713307</td>\n",
              "      <td>-74.007994</td>\n",
              "      <td>[{'label': 'display', 'lat': 40.71330656515891...</td>\n",
              "      <td>178</td>\n",
              "      <td>10007</td>\n",
              "      <td>US</td>\n",
              "      <td>New York</td>\n",
              "      <td>NY</td>\n",
              "      <td>United States</td>\n",
              "      <td>[10 Murray St (Broadway), New York, NY 10007, ...</td>\n",
              "      <td>333939</td>\n",
              "      <td>https://www.seamless.com/menu/aahar-indian-cui...</td>\n",
              "      <td>seamless</td>\n",
              "      <td>https://fastly.4sqi.net/img/general/cap/</td>\n",
              "      <td>[40, 50]</td>\n",
              "      <td>/delivery_provider_seamless_20180129.png</td>\n",
              "      <td>NaN</td>\n",
              "      <td>NaN</td>\n",
              "    </tr>\n",
              "  </tbody>\n",
              "</table>\n",
              "</div>"
            ],
            "text/plain": [
              "                         id  ... location.neighborhood\n",
              "0  510aad1ae4b0bfb2583169b9  ...                   NaN\n",
              "1  5072fe2eb0ed0fcce2497f30  ...                   NaN\n",
              "2  573f435b498e03b8bb8582c7  ...               Tribeca\n",
              "3  5d18e90b96ba5e00232c527f  ...                   NaN\n",
              "4  575dea4c498e2739e43a27e2  ...                   NaN\n",
              "\n",
              "[5 rows x 25 columns]"
            ]
          },
          "metadata": {
            "tags": []
          },
          "execution_count": 7
        }
      ]
    },
    {
      "cell_type": "markdown",
      "metadata": {
        "id": "HsPz69SzXkeI",
        "colab_type": "text"
      },
      "source": [
        "### Filtering the dataset"
      ]
    },
    {
      "cell_type": "code",
      "metadata": {
        "id": "phyDM8fxXLTB",
        "colab_type": "code",
        "outputId": "2c3db963-de71-47a9-9276-61c944ae71f8",
        "colab": {
          "base_uri": "https://localhost:8080/",
          "height": 1000
        }
      },
      "source": [
        "filtered_columns = ['name', 'categories'] + [col for col in df_nyc.columns if col.startswith('location.')] + ['id']\n",
        "df_fil_nyc = df_nyc.loc[:, filtered_columns]\n",
        "\n",
        "# function that extracts the category of the venue\n",
        "def get_category_type(row):\n",
        "    try:\n",
        "        categories_list = row['categories']\n",
        "    except:\n",
        "        categories_list = row['venue.categories']\n",
        "        \n",
        "    if len(categories_list) == 0:\n",
        "        return None\n",
        "    else:\n",
        "        return categories_list[0]['name']\n",
        "\n",
        "# filter the category for each row\n",
        "df_fil_nyc['categories'] = df_fil_nyc.apply(get_category_type, axis=1)\n",
        "\n",
        "# clean column names by keeping only last term\n",
        "df_fil_nyc.columns = [column.split('.')[-1] for column in df_fil_nyc.columns]\n",
        "\n",
        "df_fil_nyc"
      ],
      "execution_count": 8,
      "outputs": [
        {
          "output_type": "execute_result",
          "data": {
            "text/html": [
              "<div>\n",
              "<style scoped>\n",
              "    .dataframe tbody tr th:only-of-type {\n",
              "        vertical-align: middle;\n",
              "    }\n",
              "\n",
              "    .dataframe tbody tr th {\n",
              "        vertical-align: top;\n",
              "    }\n",
              "\n",
              "    .dataframe thead th {\n",
              "        text-align: right;\n",
              "    }\n",
              "</style>\n",
              "<table border=\"1\" class=\"dataframe\">\n",
              "  <thead>\n",
              "    <tr style=\"text-align: right;\">\n",
              "      <th></th>\n",
              "      <th>name</th>\n",
              "      <th>categories</th>\n",
              "      <th>address</th>\n",
              "      <th>crossStreet</th>\n",
              "      <th>lat</th>\n",
              "      <th>lng</th>\n",
              "      <th>labeledLatLngs</th>\n",
              "      <th>distance</th>\n",
              "      <th>postalCode</th>\n",
              "      <th>cc</th>\n",
              "      <th>city</th>\n",
              "      <th>state</th>\n",
              "      <th>country</th>\n",
              "      <th>formattedAddress</th>\n",
              "      <th>neighborhood</th>\n",
              "      <th>id</th>\n",
              "    </tr>\n",
              "  </thead>\n",
              "  <tbody>\n",
              "    <tr>\n",
              "      <th>0</th>\n",
              "      <td>A Saffron Thread Fresh Indian</td>\n",
              "      <td>Indian Restaurant</td>\n",
              "      <td>98 Chambers St</td>\n",
              "      <td>at Church St</td>\n",
              "      <td>40.714823</td>\n",
              "      <td>-74.007689</td>\n",
              "      <td>[{'label': 'display', 'lat': 40.71482256030567...</td>\n",
              "      <td>272</td>\n",
              "      <td>10007</td>\n",
              "      <td>US</td>\n",
              "      <td>New York</td>\n",
              "      <td>NY</td>\n",
              "      <td>United States</td>\n",
              "      <td>[98 Chambers St (at Church St), New York, NY 1...</td>\n",
              "      <td>NaN</td>\n",
              "      <td>510aad1ae4b0bfb2583169b9</td>\n",
              "    </tr>\n",
              "    <tr>\n",
              "      <th>1</th>\n",
              "      <td>Indian Biryani Delights (Cart)</td>\n",
              "      <td>Food Truck</td>\n",
              "      <td>Water St</td>\n",
              "      <td>btwn Maiden Lane &amp; Pine St</td>\n",
              "      <td>40.714619</td>\n",
              "      <td>-74.011659</td>\n",
              "      <td>[{'label': 'display', 'lat': 40.71461902180173...</td>\n",
              "      <td>520</td>\n",
              "      <td>10005</td>\n",
              "      <td>US</td>\n",
              "      <td>New York</td>\n",
              "      <td>NY</td>\n",
              "      <td>United States</td>\n",
              "      <td>[Water St (btwn Maiden Lane &amp; Pine St), New Yo...</td>\n",
              "      <td>NaN</td>\n",
              "      <td>5072fe2eb0ed0fcce2497f30</td>\n",
              "    </tr>\n",
              "    <tr>\n",
              "      <th>2</th>\n",
              "      <td>Indian king Biriyani House</td>\n",
              "      <td>Food Truck</td>\n",
              "      <td>140 Broadway</td>\n",
              "      <td>NaN</td>\n",
              "      <td>40.749834</td>\n",
              "      <td>-73.991655</td>\n",
              "      <td>[{'label': 'display', 'lat': 40.74983405175337...</td>\n",
              "      <td>4304</td>\n",
              "      <td>10005</td>\n",
              "      <td>US</td>\n",
              "      <td>New York</td>\n",
              "      <td>NY</td>\n",
              "      <td>United States</td>\n",
              "      <td>[140 Broadway, New York, NY 10005, United States]</td>\n",
              "      <td>Tribeca</td>\n",
              "      <td>573f435b498e03b8bb8582c7</td>\n",
              "    </tr>\n",
              "    <tr>\n",
              "      <th>3</th>\n",
              "      <td>Bismilla Indian Biryani House</td>\n",
              "      <td>Food Truck</td>\n",
              "      <td>NaN</td>\n",
              "      <td>NaN</td>\n",
              "      <td>40.715380</td>\n",
              "      <td>-74.011246</td>\n",
              "      <td>[{'label': 'display', 'lat': 40.71538, 'lng': ...</td>\n",
              "      <td>530</td>\n",
              "      <td>10007</td>\n",
              "      <td>US</td>\n",
              "      <td>New York</td>\n",
              "      <td>NY</td>\n",
              "      <td>United States</td>\n",
              "      <td>[New York, NY 10007, United States]</td>\n",
              "      <td>NaN</td>\n",
              "      <td>5d18e90b96ba5e00232c527f</td>\n",
              "    </tr>\n",
              "    <tr>\n",
              "      <th>4</th>\n",
              "      <td>Aahar Indian Cuisine</td>\n",
              "      <td>Indian Restaurant</td>\n",
              "      <td>10 Murray St</td>\n",
              "      <td>Broadway</td>\n",
              "      <td>40.713307</td>\n",
              "      <td>-74.007994</td>\n",
              "      <td>[{'label': 'display', 'lat': 40.71330656515891...</td>\n",
              "      <td>178</td>\n",
              "      <td>10007</td>\n",
              "      <td>US</td>\n",
              "      <td>New York</td>\n",
              "      <td>NY</td>\n",
              "      <td>United States</td>\n",
              "      <td>[10 Murray St (Broadway), New York, NY 10007, ...</td>\n",
              "      <td>NaN</td>\n",
              "      <td>575dea4c498e2739e43a27e2</td>\n",
              "    </tr>\n",
              "    <tr>\n",
              "      <th>5</th>\n",
              "      <td>Indian Biryani House</td>\n",
              "      <td>Food Truck</td>\n",
              "      <td>NaN</td>\n",
              "      <td>NaN</td>\n",
              "      <td>40.708589</td>\n",
              "      <td>-74.009926</td>\n",
              "      <td>[{'label': 'display', 'lat': 40.70858930780341...</td>\n",
              "      <td>566</td>\n",
              "      <td>NaN</td>\n",
              "      <td>US</td>\n",
              "      <td>New York</td>\n",
              "      <td>NY</td>\n",
              "      <td>United States</td>\n",
              "      <td>[New York, NY, United States]</td>\n",
              "      <td>NaN</td>\n",
              "      <td>553fb844498e6cc1b6da5ce4</td>\n",
              "    </tr>\n",
              "    <tr>\n",
              "      <th>6</th>\n",
              "      <td>Indian Express</td>\n",
              "      <td>Indian Restaurant</td>\n",
              "      <td>18 Murray St</td>\n",
              "      <td>Church St.</td>\n",
              "      <td>40.713647</td>\n",
              "      <td>-74.008348</td>\n",
              "      <td>[{'label': 'display', 'lat': 40.71364680217225...</td>\n",
              "      <td>221</td>\n",
              "      <td>10007</td>\n",
              "      <td>US</td>\n",
              "      <td>New York</td>\n",
              "      <td>NY</td>\n",
              "      <td>United States</td>\n",
              "      <td>[18 Murray St (Church St.), New York, NY 10007...</td>\n",
              "      <td>NaN</td>\n",
              "      <td>4a948b83f964a520f32120e3</td>\n",
              "    </tr>\n",
              "    <tr>\n",
              "      <th>7</th>\n",
              "      <td>Indian Beautiful Art (IBA) Crafts PVT Ltd</td>\n",
              "      <td>Clothing Store</td>\n",
              "      <td>100 Church St</td>\n",
              "      <td>NaN</td>\n",
              "      <td>40.712281</td>\n",
              "      <td>-74.010129</td>\n",
              "      <td>[{'label': 'display', 'lat': 40.71228057311295...</td>\n",
              "      <td>350</td>\n",
              "      <td>10007</td>\n",
              "      <td>US</td>\n",
              "      <td>New York</td>\n",
              "      <td>NY</td>\n",
              "      <td>United States</td>\n",
              "      <td>[100 Church St, New York, NY 10007, United Sta...</td>\n",
              "      <td>NaN</td>\n",
              "      <td>574eab2a498e3f5530cfdbca</td>\n",
              "    </tr>\n",
              "    <tr>\n",
              "      <th>8</th>\n",
              "      <td>Indian Beautiful Art (IBA) Crafts PVT Ltd</td>\n",
              "      <td>Design Studio</td>\n",
              "      <td>100 Church St</td>\n",
              "      <td>NaN</td>\n",
              "      <td>40.716135</td>\n",
              "      <td>-74.006610</td>\n",
              "      <td>[{'label': 'display', 'lat': 40.71613521878094...</td>\n",
              "      <td>382</td>\n",
              "      <td>10007</td>\n",
              "      <td>US</td>\n",
              "      <td>New York</td>\n",
              "      <td>NY</td>\n",
              "      <td>United States</td>\n",
              "      <td>[100 Church St, New York, NY 10007, United Sta...</td>\n",
              "      <td>NaN</td>\n",
              "      <td>574e8ba2cd10da9c722374fb</td>\n",
              "    </tr>\n",
              "    <tr>\n",
              "      <th>9</th>\n",
              "      <td>Baluchi's Indian</td>\n",
              "      <td>Indian Restaurant</td>\n",
              "      <td>176 Church Street</td>\n",
              "      <td>between Duane and Reade Streets</td>\n",
              "      <td>40.715614</td>\n",
              "      <td>-74.007545</td>\n",
              "      <td>[{'label': 'display', 'lat': 40.715614, 'lng':...</td>\n",
              "      <td>346</td>\n",
              "      <td>NaN</td>\n",
              "      <td>US</td>\n",
              "      <td>New York</td>\n",
              "      <td>NY</td>\n",
              "      <td>United States</td>\n",
              "      <td>[176 Church Street (between Duane and Reade St...</td>\n",
              "      <td>NaN</td>\n",
              "      <td>5730b7a9498ef7b05c09c07f</td>\n",
              "    </tr>\n",
              "    <tr>\n",
              "      <th>10</th>\n",
              "      <td>smart indian cuisine</td>\n",
              "      <td>Indian Restaurant</td>\n",
              "      <td>53 Nassau St</td>\n",
              "      <td>maiden lane &amp; liberty</td>\n",
              "      <td>40.708885</td>\n",
              "      <td>-74.009094</td>\n",
              "      <td>[{'label': 'display', 'lat': 40.70888519287109...</td>\n",
              "      <td>500</td>\n",
              "      <td>10038</td>\n",
              "      <td>US</td>\n",
              "      <td>New York</td>\n",
              "      <td>NY</td>\n",
              "      <td>United States</td>\n",
              "      <td>[53 Nassau St (maiden lane &amp; liberty), New Yor...</td>\n",
              "      <td>NaN</td>\n",
              "      <td>50a5221fe4b0dea0468d43d1</td>\n",
              "    </tr>\n",
              "    <tr>\n",
              "      <th>11</th>\n",
              "      <td>New Shezan Restaurant</td>\n",
              "      <td>Middle Eastern Restaurant</td>\n",
              "      <td>183 Church St</td>\n",
              "      <td>btwn Duane &amp; Reade St.</td>\n",
              "      <td>40.715789</td>\n",
              "      <td>-74.007227</td>\n",
              "      <td>[{'label': 'display', 'lat': 40.71578949233164...</td>\n",
              "      <td>355</td>\n",
              "      <td>10007</td>\n",
              "      <td>US</td>\n",
              "      <td>New York</td>\n",
              "      <td>NY</td>\n",
              "      <td>United States</td>\n",
              "      <td>[183 Church St (btwn Duane &amp; Reade St.), New Y...</td>\n",
              "      <td>NaN</td>\n",
              "      <td>4c4890da1879c9b6cce6e143</td>\n",
              "    </tr>\n",
              "    <tr>\n",
              "      <th>12</th>\n",
              "      <td>Salaam Bombay</td>\n",
              "      <td>Indian Restaurant</td>\n",
              "      <td>317 Greenwich St</td>\n",
              "      <td>Reade St</td>\n",
              "      <td>40.716954</td>\n",
              "      <td>-74.010905</td>\n",
              "      <td>[{'label': 'display', 'lat': 40.71695381665769...</td>\n",
              "      <td>625</td>\n",
              "      <td>10013</td>\n",
              "      <td>US</td>\n",
              "      <td>New York</td>\n",
              "      <td>NY</td>\n",
              "      <td>United States</td>\n",
              "      <td>[317 Greenwich St (Reade St), New York, NY 100...</td>\n",
              "      <td>NaN</td>\n",
              "      <td>4aef32f7f964a52081d621e3</td>\n",
              "    </tr>\n",
              "  </tbody>\n",
              "</table>\n",
              "</div>"
            ],
            "text/plain": [
              "                                         name  ...                        id\n",
              "0               A Saffron Thread Fresh Indian  ...  510aad1ae4b0bfb2583169b9\n",
              "1              Indian Biryani Delights (Cart)  ...  5072fe2eb0ed0fcce2497f30\n",
              "2                  Indian king Biriyani House  ...  573f435b498e03b8bb8582c7\n",
              "3               Bismilla Indian Biryani House  ...  5d18e90b96ba5e00232c527f\n",
              "4                        Aahar Indian Cuisine  ...  575dea4c498e2739e43a27e2\n",
              "5                        Indian Biryani House  ...  553fb844498e6cc1b6da5ce4\n",
              "6                              Indian Express  ...  4a948b83f964a520f32120e3\n",
              "7   Indian Beautiful Art (IBA) Crafts PVT Ltd  ...  574eab2a498e3f5530cfdbca\n",
              "8   Indian Beautiful Art (IBA) Crafts PVT Ltd  ...  574e8ba2cd10da9c722374fb\n",
              "9                            Baluchi's Indian  ...  5730b7a9498ef7b05c09c07f\n",
              "10                       smart indian cuisine  ...  50a5221fe4b0dea0468d43d1\n",
              "11                      New Shezan Restaurant  ...  4c4890da1879c9b6cce6e143\n",
              "12                              Salaam Bombay  ...  4aef32f7f964a52081d621e3\n",
              "\n",
              "[13 rows x 16 columns]"
            ]
          },
          "metadata": {
            "tags": []
          },
          "execution_count": 8
        }
      ]
    },
    {
      "cell_type": "markdown",
      "metadata": {
        "id": "U5RalJgvYe5V",
        "colab_type": "text"
      },
      "source": [
        "### Specifying the location of Toronto"
      ]
    },
    {
      "cell_type": "code",
      "metadata": {
        "id": "005IA29QXmsi",
        "colab_type": "code",
        "outputId": "b06b50b3-3ea7-4cb8-c74d-4981cfa9f26d",
        "colab": {
          "base_uri": "https://localhost:8080/",
          "height": 35
        }
      },
      "source": [
        "address = 'Toronto, ON'\n",
        "\n",
        "geolocator = Nominatim(user_agent=\"foursquare_agent\")\n",
        "location = geolocator.geocode(address)\n",
        "latitude = location.latitude\n",
        "longitude = location.longitude\n",
        "print(latitude, longitude)"
      ],
      "execution_count": 9,
      "outputs": [
        {
          "output_type": "stream",
          "text": [
            "43.653963 -79.387207\n"
          ],
          "name": "stdout"
        }
      ]
    },
    {
      "cell_type": "markdown",
      "metadata": {
        "id": "Uk3HMhYdY-Ko",
        "colab_type": "text"
      },
      "source": [
        "### Specifying the URL for Toronto"
      ]
    },
    {
      "cell_type": "code",
      "metadata": {
        "id": "OAF4e_J9Y8gw",
        "colab_type": "code",
        "outputId": "30d38e4f-7013-4257-e68d-501dbb6e2326",
        "colab": {
          "base_uri": "https://localhost:8080/",
          "height": 55
        }
      },
      "source": [
        "url_1 = 'https://api.foursquare.com/v2/venues/search?client_id={}&client_secret={}&ll={},{}&v={}&query={}&radius={}&limit={}'.format(CLIENT_ID, CLIENT_SECRET, latitude, longitude, VERSION, search_query, radius, LIMIT)\n",
        "url_1"
      ],
      "execution_count": 10,
      "outputs": [
        {
          "output_type": "execute_result",
          "data": {
            "text/plain": [
              "'https://api.foursquare.com/v2/venues/search?client_id=50C0PKFVLEE3JHSXCJR1AACOWVPS1DAMMHPZHLDR10TR0CKX&client_secret=P1XJZQJEFLLKI3HXJYHXXUID1DCAFUKRWFFN3BRVTEHXWW4W&ll=43.653963,-79.387207&v=20180604&query=Indian&radius=500&limit=30'"
            ]
          },
          "metadata": {
            "tags": []
          },
          "execution_count": 10
        }
      ]
    },
    {
      "cell_type": "markdown",
      "metadata": {
        "id": "H6bmokf-ZhQ3",
        "colab_type": "text"
      },
      "source": [
        "### Fetching results from JSON "
      ]
    },
    {
      "cell_type": "code",
      "metadata": {
        "id": "SOVHugiHZJsm",
        "colab_type": "code",
        "outputId": "94292b5c-7934-4f3a-855e-364270520a73",
        "colab": {
          "base_uri": "https://localhost:8080/",
          "height": 1000
        }
      },
      "source": [
        "results_tor = requests.get(url_1).json()\n",
        "results_tor"
      ],
      "execution_count": 11,
      "outputs": [
        {
          "output_type": "execute_result",
          "data": {
            "text/plain": [
              "{'meta': {'code': 200, 'requestId': '5dc7deb7cad1b60039b0e19e'},\n",
              " 'response': {'venues': [{'categories': [{'icon': {'prefix': 'https://ss3.4sqi.net/img/categories_v2/food/indian_',\n",
              "       'suffix': '.png'},\n",
              "      'id': '4bf58dd8d48988d10f941735',\n",
              "      'name': 'Indian Restaurant',\n",
              "      'pluralName': 'Indian Restaurants',\n",
              "      'primary': True,\n",
              "      'shortName': 'Indian'}],\n",
              "    'hasPerk': False,\n",
              "    'id': '4afd920ff964a520ad2822e3',\n",
              "    'location': {'address': '181 Dundas St W',\n",
              "     'cc': 'CA',\n",
              "     'city': 'Toronto',\n",
              "     'country': 'Canada',\n",
              "     'crossStreet': 'W of Chestnut St',\n",
              "     'distance': 136,\n",
              "     'formattedAddress': ['181 Dundas St W (W of Chestnut St)',\n",
              "      'Toronto ON M5G 1C7',\n",
              "      'Canada'],\n",
              "     'labeledLatLngs': [{'label': 'display',\n",
              "       'lat': 43.65511996683289,\n",
              "       'lng': -79.3866447102921}],\n",
              "     'lat': 43.65511996683289,\n",
              "     'lng': -79.3866447102921,\n",
              "     'postalCode': 'M5G 1C7',\n",
              "     'state': 'ON'},\n",
              "    'name': 'Indian Biriyani House',\n",
              "    'referralId': 'v-1573379767'},\n",
              "   {'categories': [{'icon': {'prefix': 'https://ss3.4sqi.net/img/categories_v2/food/indian_',\n",
              "       'suffix': '.png'},\n",
              "      'id': '4bf58dd8d48988d10f941735',\n",
              "      'name': 'Indian Restaurant',\n",
              "      'pluralName': 'Indian Restaurants',\n",
              "      'primary': True,\n",
              "      'shortName': 'Indian'}],\n",
              "    'hasPerk': False,\n",
              "    'id': '4b2a634af964a52020a824e3',\n",
              "    'location': {'address': '123 Dundas St W',\n",
              "     'cc': 'CA',\n",
              "     'city': 'Toronto',\n",
              "     'country': 'Canada',\n",
              "     'crossStreet': 'btw Elizabeth & Bay',\n",
              "     'distance': 311,\n",
              "     'formattedAddress': ['123 Dundas St W (btw Elizabeth & Bay)',\n",
              "      'Toronto ON',\n",
              "      'Canada'],\n",
              "     'labeledLatLngs': [{'label': 'display',\n",
              "       'lat': 43.65564910619165,\n",
              "       'lng': -79.38411937886697}],\n",
              "     'lat': 43.65564910619165,\n",
              "     'lng': -79.38411937886697,\n",
              "     'state': 'ON'},\n",
              "    'name': 'Indian Flavour',\n",
              "    'referralId': 'v-1573379767'},\n",
              "   {'categories': [{'icon': {'prefix': 'https://ss3.4sqi.net/img/categories_v2/food/streetfood_',\n",
              "       'suffix': '.png'},\n",
              "      'id': '4bf58dd8d48988d1cb941735',\n",
              "      'name': 'Food Truck',\n",
              "      'pluralName': 'Food Trucks',\n",
              "      'primary': True,\n",
              "      'shortName': 'Food Truck'}],\n",
              "    'hasPerk': False,\n",
              "    'id': '596f9dea1fa7632be2eacab9',\n",
              "    'location': {'cc': 'CA',\n",
              "     'city': 'Toronto',\n",
              "     'country': 'Canada',\n",
              "     'distance': 354,\n",
              "     'formattedAddress': ['Toronto ON M5G 2N2', 'Canada'],\n",
              "     'labeledLatLngs': [{'label': 'display',\n",
              "       'lat': 43.65698561897954,\n",
              "       'lng': -79.38584032854251}],\n",
              "     'lat': 43.65698561897954,\n",
              "     'lng': -79.38584032854251,\n",
              "     'postalCode': 'M5G 2N2',\n",
              "     'state': 'ON'},\n",
              "    'name': \"Mami's Indian Cuisine\",\n",
              "    'referralId': 'v-1573379767'},\n",
              "   {'categories': [{'icon': {'prefix': 'https://ss3.4sqi.net/img/categories_v2/food/indian_',\n",
              "       'suffix': '.png'},\n",
              "      'id': '4bf58dd8d48988d10f941735',\n",
              "      'name': 'Indian Restaurant',\n",
              "      'pluralName': 'Indian Restaurants',\n",
              "      'primary': True,\n",
              "      'shortName': 'Indian'}],\n",
              "    'hasPerk': False,\n",
              "    'id': '4e122e6cb0fbfef99b985de1',\n",
              "    'location': {'cc': 'CA',\n",
              "     'city': 'Toronto',\n",
              "     'country': 'Canada',\n",
              "     'distance': 553,\n",
              "     'formattedAddress': ['Toronto ON', 'Canada'],\n",
              "     'labeledLatLngs': [{'label': 'display',\n",
              "       'lat': 43.655946,\n",
              "       'lng': -79.393504}],\n",
              "     'lat': 43.655946,\n",
              "     'lng': -79.393504,\n",
              "     'state': 'ON'},\n",
              "    'name': 'Jodpore Club Indian Cuisine',\n",
              "    'referralId': 'v-1573379767'}]}}"
            ]
          },
          "metadata": {
            "tags": []
          },
          "execution_count": 11
        }
      ]
    },
    {
      "cell_type": "markdown",
      "metadata": {
        "id": "rqE-Yue3Zskq",
        "colab_type": "text"
      },
      "source": [
        "### Generating Dataframe for Toronto"
      ]
    },
    {
      "cell_type": "code",
      "metadata": {
        "id": "2nzMsGP2ZoTc",
        "colab_type": "code",
        "outputId": "5a0bf9b3-56bd-480a-f8db-80063d5531cf",
        "colab": {
          "base_uri": "https://localhost:8080/",
          "height": 351
        }
      },
      "source": [
        "venues = results_tor['response']['venues']\n",
        "\n",
        "df_tor = json_normalize(venues)\n",
        "df_tor.head()"
      ],
      "execution_count": 12,
      "outputs": [
        {
          "output_type": "execute_result",
          "data": {
            "text/html": [
              "<div>\n",
              "<style scoped>\n",
              "    .dataframe tbody tr th:only-of-type {\n",
              "        vertical-align: middle;\n",
              "    }\n",
              "\n",
              "    .dataframe tbody tr th {\n",
              "        vertical-align: top;\n",
              "    }\n",
              "\n",
              "    .dataframe thead th {\n",
              "        text-align: right;\n",
              "    }\n",
              "</style>\n",
              "<table border=\"1\" class=\"dataframe\">\n",
              "  <thead>\n",
              "    <tr style=\"text-align: right;\">\n",
              "      <th></th>\n",
              "      <th>id</th>\n",
              "      <th>name</th>\n",
              "      <th>categories</th>\n",
              "      <th>referralId</th>\n",
              "      <th>hasPerk</th>\n",
              "      <th>location.address</th>\n",
              "      <th>location.crossStreet</th>\n",
              "      <th>location.lat</th>\n",
              "      <th>location.lng</th>\n",
              "      <th>location.labeledLatLngs</th>\n",
              "      <th>location.distance</th>\n",
              "      <th>location.postalCode</th>\n",
              "      <th>location.cc</th>\n",
              "      <th>location.city</th>\n",
              "      <th>location.state</th>\n",
              "      <th>location.country</th>\n",
              "      <th>location.formattedAddress</th>\n",
              "    </tr>\n",
              "  </thead>\n",
              "  <tbody>\n",
              "    <tr>\n",
              "      <th>0</th>\n",
              "      <td>4afd920ff964a520ad2822e3</td>\n",
              "      <td>Indian Biriyani House</td>\n",
              "      <td>[{'id': '4bf58dd8d48988d10f941735', 'name': 'I...</td>\n",
              "      <td>v-1573379767</td>\n",
              "      <td>False</td>\n",
              "      <td>181 Dundas St W</td>\n",
              "      <td>W of Chestnut St</td>\n",
              "      <td>43.655120</td>\n",
              "      <td>-79.386645</td>\n",
              "      <td>[{'label': 'display', 'lat': 43.65511996683289...</td>\n",
              "      <td>136</td>\n",
              "      <td>M5G 1C7</td>\n",
              "      <td>CA</td>\n",
              "      <td>Toronto</td>\n",
              "      <td>ON</td>\n",
              "      <td>Canada</td>\n",
              "      <td>[181 Dundas St W (W of Chestnut St), Toronto O...</td>\n",
              "    </tr>\n",
              "    <tr>\n",
              "      <th>1</th>\n",
              "      <td>4b2a634af964a52020a824e3</td>\n",
              "      <td>Indian Flavour</td>\n",
              "      <td>[{'id': '4bf58dd8d48988d10f941735', 'name': 'I...</td>\n",
              "      <td>v-1573379767</td>\n",
              "      <td>False</td>\n",
              "      <td>123 Dundas St W</td>\n",
              "      <td>btw Elizabeth &amp; Bay</td>\n",
              "      <td>43.655649</td>\n",
              "      <td>-79.384119</td>\n",
              "      <td>[{'label': 'display', 'lat': 43.65564910619165...</td>\n",
              "      <td>311</td>\n",
              "      <td>NaN</td>\n",
              "      <td>CA</td>\n",
              "      <td>Toronto</td>\n",
              "      <td>ON</td>\n",
              "      <td>Canada</td>\n",
              "      <td>[123 Dundas St W (btw Elizabeth &amp; Bay), Toront...</td>\n",
              "    </tr>\n",
              "    <tr>\n",
              "      <th>2</th>\n",
              "      <td>596f9dea1fa7632be2eacab9</td>\n",
              "      <td>Mami's Indian Cuisine</td>\n",
              "      <td>[{'id': '4bf58dd8d48988d1cb941735', 'name': 'F...</td>\n",
              "      <td>v-1573379767</td>\n",
              "      <td>False</td>\n",
              "      <td>NaN</td>\n",
              "      <td>NaN</td>\n",
              "      <td>43.656986</td>\n",
              "      <td>-79.385840</td>\n",
              "      <td>[{'label': 'display', 'lat': 43.65698561897954...</td>\n",
              "      <td>354</td>\n",
              "      <td>M5G 2N2</td>\n",
              "      <td>CA</td>\n",
              "      <td>Toronto</td>\n",
              "      <td>ON</td>\n",
              "      <td>Canada</td>\n",
              "      <td>[Toronto ON M5G 2N2, Canada]</td>\n",
              "    </tr>\n",
              "    <tr>\n",
              "      <th>3</th>\n",
              "      <td>4e122e6cb0fbfef99b985de1</td>\n",
              "      <td>Jodpore Club Indian Cuisine</td>\n",
              "      <td>[{'id': '4bf58dd8d48988d10f941735', 'name': 'I...</td>\n",
              "      <td>v-1573379767</td>\n",
              "      <td>False</td>\n",
              "      <td>NaN</td>\n",
              "      <td>NaN</td>\n",
              "      <td>43.655946</td>\n",
              "      <td>-79.393504</td>\n",
              "      <td>[{'label': 'display', 'lat': 43.655946, 'lng':...</td>\n",
              "      <td>553</td>\n",
              "      <td>NaN</td>\n",
              "      <td>CA</td>\n",
              "      <td>Toronto</td>\n",
              "      <td>ON</td>\n",
              "      <td>Canada</td>\n",
              "      <td>[Toronto ON, Canada]</td>\n",
              "    </tr>\n",
              "  </tbody>\n",
              "</table>\n",
              "</div>"
            ],
            "text/plain": [
              "                         id  ...                          location.formattedAddress\n",
              "0  4afd920ff964a520ad2822e3  ...  [181 Dundas St W (W of Chestnut St), Toronto O...\n",
              "1  4b2a634af964a52020a824e3  ...  [123 Dundas St W (btw Elizabeth & Bay), Toront...\n",
              "2  596f9dea1fa7632be2eacab9  ...                       [Toronto ON M5G 2N2, Canada]\n",
              "3  4e122e6cb0fbfef99b985de1  ...                               [Toronto ON, Canada]\n",
              "\n",
              "[4 rows x 17 columns]"
            ]
          },
          "metadata": {
            "tags": []
          },
          "execution_count": 12
        }
      ]
    },
    {
      "cell_type": "markdown",
      "metadata": {
        "id": "HPDi9GkRaLEZ",
        "colab_type": "text"
      },
      "source": [
        "### Filtering the Dataset"
      ]
    },
    {
      "cell_type": "code",
      "metadata": {
        "id": "df97aNMJZ8wo",
        "colab_type": "code",
        "outputId": "a6d34526-63b6-4982-c210-60f38a078af6",
        "colab": {
          "base_uri": "https://localhost:8080/",
          "height": 351
        }
      },
      "source": [
        "filtered_columns = ['name', 'categories'] + [col for col in df_tor.columns if col.startswith('location.')] + ['id']\n",
        "df_fil_tor = df_tor.loc[:, filtered_columns]\n",
        "\n",
        "# function that extracts the category of the venue\n",
        "def get_category_type(row):\n",
        "    try:\n",
        "        categories_list = row['categories']\n",
        "    except:\n",
        "        categories_list = row['venue.categories']\n",
        "        \n",
        "    if len(categories_list) == 0:\n",
        "        return None\n",
        "    else:\n",
        "        return categories_list[0]['name']\n",
        "\n",
        "# filter the category for each row\n",
        "df_fil_tor['categories'] = df_fil_tor.apply(get_category_type, axis=1)\n",
        "\n",
        "# clean column names by keeping only last term\n",
        "df_fil_tor.columns = [column.split('.')[-1] for column in df_fil_tor.columns]\n",
        "\n",
        "df_fil_tor"
      ],
      "execution_count": 13,
      "outputs": [
        {
          "output_type": "execute_result",
          "data": {
            "text/html": [
              "<div>\n",
              "<style scoped>\n",
              "    .dataframe tbody tr th:only-of-type {\n",
              "        vertical-align: middle;\n",
              "    }\n",
              "\n",
              "    .dataframe tbody tr th {\n",
              "        vertical-align: top;\n",
              "    }\n",
              "\n",
              "    .dataframe thead th {\n",
              "        text-align: right;\n",
              "    }\n",
              "</style>\n",
              "<table border=\"1\" class=\"dataframe\">\n",
              "  <thead>\n",
              "    <tr style=\"text-align: right;\">\n",
              "      <th></th>\n",
              "      <th>name</th>\n",
              "      <th>categories</th>\n",
              "      <th>address</th>\n",
              "      <th>crossStreet</th>\n",
              "      <th>lat</th>\n",
              "      <th>lng</th>\n",
              "      <th>labeledLatLngs</th>\n",
              "      <th>distance</th>\n",
              "      <th>postalCode</th>\n",
              "      <th>cc</th>\n",
              "      <th>city</th>\n",
              "      <th>state</th>\n",
              "      <th>country</th>\n",
              "      <th>formattedAddress</th>\n",
              "      <th>id</th>\n",
              "    </tr>\n",
              "  </thead>\n",
              "  <tbody>\n",
              "    <tr>\n",
              "      <th>0</th>\n",
              "      <td>Indian Biriyani House</td>\n",
              "      <td>Indian Restaurant</td>\n",
              "      <td>181 Dundas St W</td>\n",
              "      <td>W of Chestnut St</td>\n",
              "      <td>43.655120</td>\n",
              "      <td>-79.386645</td>\n",
              "      <td>[{'label': 'display', 'lat': 43.65511996683289...</td>\n",
              "      <td>136</td>\n",
              "      <td>M5G 1C7</td>\n",
              "      <td>CA</td>\n",
              "      <td>Toronto</td>\n",
              "      <td>ON</td>\n",
              "      <td>Canada</td>\n",
              "      <td>[181 Dundas St W (W of Chestnut St), Toronto O...</td>\n",
              "      <td>4afd920ff964a520ad2822e3</td>\n",
              "    </tr>\n",
              "    <tr>\n",
              "      <th>1</th>\n",
              "      <td>Indian Flavour</td>\n",
              "      <td>Indian Restaurant</td>\n",
              "      <td>123 Dundas St W</td>\n",
              "      <td>btw Elizabeth &amp; Bay</td>\n",
              "      <td>43.655649</td>\n",
              "      <td>-79.384119</td>\n",
              "      <td>[{'label': 'display', 'lat': 43.65564910619165...</td>\n",
              "      <td>311</td>\n",
              "      <td>NaN</td>\n",
              "      <td>CA</td>\n",
              "      <td>Toronto</td>\n",
              "      <td>ON</td>\n",
              "      <td>Canada</td>\n",
              "      <td>[123 Dundas St W (btw Elizabeth &amp; Bay), Toront...</td>\n",
              "      <td>4b2a634af964a52020a824e3</td>\n",
              "    </tr>\n",
              "    <tr>\n",
              "      <th>2</th>\n",
              "      <td>Mami's Indian Cuisine</td>\n",
              "      <td>Food Truck</td>\n",
              "      <td>NaN</td>\n",
              "      <td>NaN</td>\n",
              "      <td>43.656986</td>\n",
              "      <td>-79.385840</td>\n",
              "      <td>[{'label': 'display', 'lat': 43.65698561897954...</td>\n",
              "      <td>354</td>\n",
              "      <td>M5G 2N2</td>\n",
              "      <td>CA</td>\n",
              "      <td>Toronto</td>\n",
              "      <td>ON</td>\n",
              "      <td>Canada</td>\n",
              "      <td>[Toronto ON M5G 2N2, Canada]</td>\n",
              "      <td>596f9dea1fa7632be2eacab9</td>\n",
              "    </tr>\n",
              "    <tr>\n",
              "      <th>3</th>\n",
              "      <td>Jodpore Club Indian Cuisine</td>\n",
              "      <td>Indian Restaurant</td>\n",
              "      <td>NaN</td>\n",
              "      <td>NaN</td>\n",
              "      <td>43.655946</td>\n",
              "      <td>-79.393504</td>\n",
              "      <td>[{'label': 'display', 'lat': 43.655946, 'lng':...</td>\n",
              "      <td>553</td>\n",
              "      <td>NaN</td>\n",
              "      <td>CA</td>\n",
              "      <td>Toronto</td>\n",
              "      <td>ON</td>\n",
              "      <td>Canada</td>\n",
              "      <td>[Toronto ON, Canada]</td>\n",
              "      <td>4e122e6cb0fbfef99b985de1</td>\n",
              "    </tr>\n",
              "  </tbody>\n",
              "</table>\n",
              "</div>"
            ],
            "text/plain": [
              "                          name  ...                        id\n",
              "0        Indian Biriyani House  ...  4afd920ff964a520ad2822e3\n",
              "1               Indian Flavour  ...  4b2a634af964a52020a824e3\n",
              "2        Mami's Indian Cuisine  ...  596f9dea1fa7632be2eacab9\n",
              "3  Jodpore Club Indian Cuisine  ...  4e122e6cb0fbfef99b985de1\n",
              "\n",
              "[4 rows x 15 columns]"
            ]
          },
          "metadata": {
            "tags": []
          },
          "execution_count": 13
        }
      ]
    },
    {
      "cell_type": "markdown",
      "metadata": {
        "id": "fiaYNJQ09LvK",
        "colab_type": "text"
      },
      "source": [
        "## Visualizing the data"
      ]
    },
    {
      "cell_type": "markdown",
      "metadata": {
        "id": "rnMn3Zfk9aLQ",
        "colab_type": "text"
      },
      "source": [
        "###Map visualizing data in New York\n",
        "\n"
      ]
    },
    {
      "cell_type": "code",
      "metadata": {
        "id": "633kbLAsaky7",
        "colab_type": "code",
        "outputId": "450e0cc5-3ef5-4833-a7c1-6a77207fb9ca",
        "colab": {
          "base_uri": "https://localhost:8080/",
          "height": 656
        }
      },
      "source": [
        "address = 'New York, NY'\n",
        "\n",
        "geolocator = Nominatim(user_agent=\"foursquare_agent\")\n",
        "location = geolocator.geocode(address)\n",
        "latitude = location.latitude\n",
        "longitude = location.longitude\n",
        "\n",
        "venues_map_nyc = folium.Map(location=[latitude, longitude], zoom_start=15) \n",
        "\n",
        "\n",
        "# add the Indian restaurants as blue circle markers\n",
        "for lat, lng, label in zip(df_fil_nyc.lat, df_fil_nyc.lng, df_fil_nyc.categories):\n",
        "    folium.Marker(\n",
        "        [lat, lng],\n",
        "        popup=label,\n",
        "    ).add_to(venues_map_nyc)\n",
        "\n",
        "# display map\n",
        "venues_map_nyc"
      ],
      "execution_count": 14,
      "outputs": [
        {
          "output_type": "execute_result",
          "data": {
            "text/html": [
              "<div style=\"width:100%;\"><div style=\"position:relative;width:100%;height:0;padding-bottom:60%;\"><iframe src=\"data:text/html;charset=utf-8;base64,PCFET0NUWVBFIGh0bWw+CjxoZWFkPiAgICAKICAgIDxtZXRhIGh0dHAtZXF1aXY9ImNvbnRlbnQtdHlwZSIgY29udGVudD0idGV4dC9odG1sOyBjaGFyc2V0PVVURi04IiAvPgogICAgPHNjcmlwdD5MX1BSRUZFUl9DQU5WQVM9ZmFsc2U7IExfTk9fVE9VQ0g9ZmFsc2U7IExfRElTQUJMRV8zRD1mYWxzZTs8L3NjcmlwdD4KICAgIDxzY3JpcHQgc3JjPSJodHRwczovL2Nkbi5qc2RlbGl2ci5uZXQvbnBtL2xlYWZsZXRAMS40LjAvZGlzdC9sZWFmbGV0LmpzIj48L3NjcmlwdD4KICAgIDxzY3JpcHQgc3JjPSJodHRwczovL2NvZGUuanF1ZXJ5LmNvbS9qcXVlcnktMS4xMi40Lm1pbi5qcyI+PC9zY3JpcHQ+CiAgICA8c2NyaXB0IHNyYz0iaHR0cHM6Ly9tYXhjZG4uYm9vdHN0cmFwY2RuLmNvbS9ib290c3RyYXAvMy4yLjAvanMvYm9vdHN0cmFwLm1pbi5qcyI+PC9zY3JpcHQ+CiAgICA8c2NyaXB0IHNyYz0iaHR0cHM6Ly9jZG5qcy5jbG91ZGZsYXJlLmNvbS9hamF4L2xpYnMvTGVhZmxldC5hd2Vzb21lLW1hcmtlcnMvMi4wLjIvbGVhZmxldC5hd2Vzb21lLW1hcmtlcnMuanMiPjwvc2NyaXB0PgogICAgPGxpbmsgcmVsPSJzdHlsZXNoZWV0IiBocmVmPSJodHRwczovL2Nkbi5qc2RlbGl2ci5uZXQvbnBtL2xlYWZsZXRAMS40LjAvZGlzdC9sZWFmbGV0LmNzcyIvPgogICAgPGxpbmsgcmVsPSJzdHlsZXNoZWV0IiBocmVmPSJodHRwczovL21heGNkbi5ib290c3RyYXBjZG4uY29tL2Jvb3RzdHJhcC8zLjIuMC9jc3MvYm9vdHN0cmFwLm1pbi5jc3MiLz4KICAgIDxsaW5rIHJlbD0ic3R5bGVzaGVldCIgaHJlZj0iaHR0cHM6Ly9tYXhjZG4uYm9vdHN0cmFwY2RuLmNvbS9ib290c3RyYXAvMy4yLjAvY3NzL2Jvb3RzdHJhcC10aGVtZS5taW4uY3NzIi8+CiAgICA8bGluayByZWw9InN0eWxlc2hlZXQiIGhyZWY9Imh0dHBzOi8vbWF4Y2RuLmJvb3RzdHJhcGNkbi5jb20vZm9udC1hd2Vzb21lLzQuNi4zL2Nzcy9mb250LWF3ZXNvbWUubWluLmNzcyIvPgogICAgPGxpbmsgcmVsPSJzdHlsZXNoZWV0IiBocmVmPSJodHRwczovL2NkbmpzLmNsb3VkZmxhcmUuY29tL2FqYXgvbGlicy9MZWFmbGV0LmF3ZXNvbWUtbWFya2Vycy8yLjAuMi9sZWFmbGV0LmF3ZXNvbWUtbWFya2Vycy5jc3MiLz4KICAgIDxsaW5rIHJlbD0ic3R5bGVzaGVldCIgaHJlZj0iaHR0cHM6Ly9yYXdjZG4uZ2l0aGFjay5jb20vcHl0aG9uLXZpc3VhbGl6YXRpb24vZm9saXVtL21hc3Rlci9mb2xpdW0vdGVtcGxhdGVzL2xlYWZsZXQuYXdlc29tZS5yb3RhdGUuY3NzIi8+CiAgICA8c3R5bGU+aHRtbCwgYm9keSB7d2lkdGg6IDEwMCU7aGVpZ2h0OiAxMDAlO21hcmdpbjogMDtwYWRkaW5nOiAwO308L3N0eWxlPgogICAgPHN0eWxlPiNtYXAge3Bvc2l0aW9uOmFic29sdXRlO3RvcDowO2JvdHRvbTowO3JpZ2h0OjA7bGVmdDowO308L3N0eWxlPgogICAgCiAgICA8bWV0YSBuYW1lPSJ2aWV3cG9ydCIgY29udGVudD0id2lkdGg9ZGV2aWNlLXdpZHRoLAogICAgICAgIGluaXRpYWwtc2NhbGU9MS4wLCBtYXhpbXVtLXNjYWxlPTEuMCwgdXNlci1zY2FsYWJsZT1ubyIgLz4KICAgIDxzdHlsZT4jbWFwXzcwNDg0MmFhMjZiODQ2MjZhMmQ1ODJkYzk2MjBjNjE4IHsKICAgICAgICBwb3NpdGlvbjogcmVsYXRpdmU7CiAgICAgICAgd2lkdGg6IDEwMC4wJTsKICAgICAgICBoZWlnaHQ6IDEwMC4wJTsKICAgICAgICBsZWZ0OiAwLjAlOwogICAgICAgIHRvcDogMC4wJTsKICAgICAgICB9CiAgICA8L3N0eWxlPgo8L2hlYWQ+Cjxib2R5PiAgICAKICAgIAogICAgPGRpdiBjbGFzcz0iZm9saXVtLW1hcCIgaWQ9Im1hcF83MDQ4NDJhYTI2Yjg0NjI2YTJkNTgyZGM5NjIwYzYxOCIgPjwvZGl2Pgo8L2JvZHk+CjxzY3JpcHQ+ICAgIAogICAgCiAgICAKICAgICAgICB2YXIgYm91bmRzID0gbnVsbDsKICAgIAoKICAgIHZhciBtYXBfNzA0ODQyYWEyNmI4NDYyNmEyZDU4MmRjOTYyMGM2MTggPSBMLm1hcCgKICAgICAgICAnbWFwXzcwNDg0MmFhMjZiODQ2MjZhMmQ1ODJkYzk2MjBjNjE4JywgewogICAgICAgIGNlbnRlcjogWzQwLjcxMjcyODEsIC03NC4wMDYwMTUyXSwKICAgICAgICB6b29tOiAxNSwKICAgICAgICBtYXhCb3VuZHM6IGJvdW5kcywKICAgICAgICBsYXllcnM6IFtdLAogICAgICAgIHdvcmxkQ29weUp1bXA6IGZhbHNlLAogICAgICAgIGNyczogTC5DUlMuRVBTRzM4NTcsCiAgICAgICAgem9vbUNvbnRyb2w6IHRydWUsCiAgICAgICAgfSk7CgoKICAgIAogICAgdmFyIHRpbGVfbGF5ZXJfYTI0Njc3NWRkMjMyNGI3N2JiYWNhYmRkNGEzNzc4ZmIgPSBMLnRpbGVMYXllcigKICAgICAgICAnaHR0cHM6Ly97c30udGlsZS5vcGVuc3RyZWV0bWFwLm9yZy97en0ve3h9L3t5fS5wbmcnLAogICAgICAgIHsKICAgICAgICAiYXR0cmlidXRpb24iOiBudWxsLAogICAgICAgICJkZXRlY3RSZXRpbmEiOiBmYWxzZSwKICAgICAgICAibWF4TmF0aXZlWm9vbSI6IDE4LAogICAgICAgICJtYXhab29tIjogMTgsCiAgICAgICAgIm1pblpvb20iOiAwLAogICAgICAgICJub1dyYXAiOiBmYWxzZSwKICAgICAgICAib3BhY2l0eSI6IDEsCiAgICAgICAgInN1YmRvbWFpbnMiOiAiYWJjIiwKICAgICAgICAidG1zIjogZmFsc2UKfSkuYWRkVG8obWFwXzcwNDg0MmFhMjZiODQ2MjZhMmQ1ODJkYzk2MjBjNjE4KTsKICAgIAogICAgICAgIHZhciBtYXJrZXJfMWVkMzdjMTk1OWMzNDY2MWIzNTRhYTZkZTg0MjRlMjUgPSBMLm1hcmtlcigKICAgICAgICAgICAgWzQwLjcxNDgyMjU2MDMwNTY3LCAtNzQuMDA3Njg5MjQwNzgyODRdLAogICAgICAgICAgICB7CiAgICAgICAgICAgICAgICBpY29uOiBuZXcgTC5JY29uLkRlZmF1bHQoKSwKICAgICAgICAgICAgICAgIH0KICAgICAgICAgICAgKS5hZGRUbyhtYXBfNzA0ODQyYWEyNmI4NDYyNmEyZDU4MmRjOTYyMGM2MTgpOwogICAgICAgIAogICAgCiAgICAgICAgICAgIHZhciBwb3B1cF83OGIwOGE2MjFkYzE0MTVjODM3OTM3NDNlODIyZGQwYyA9IEwucG9wdXAoe21heFdpZHRoOiAnMTAwJScKICAgICAgICAgICAgCiAgICAgICAgICAgIH0pOwoKICAgICAgICAgICAgCiAgICAgICAgICAgICAgICB2YXIgaHRtbF8yNTY5NmMxOTUyNTQ0YmQ5OTYwNjcxNjA3NTYyODdjYyA9ICQoYDxkaXYgaWQ9Imh0bWxfMjU2OTZjMTk1MjU0NGJkOTk2MDY3MTYwNzU2Mjg3Y2MiIHN0eWxlPSJ3aWR0aDogMTAwLjAlOyBoZWlnaHQ6IDEwMC4wJTsiPkluZGlhbiBSZXN0YXVyYW50PC9kaXY+YClbMF07CiAgICAgICAgICAgICAgICBwb3B1cF83OGIwOGE2MjFkYzE0MTVjODM3OTM3NDNlODIyZGQwYy5zZXRDb250ZW50KGh0bWxfMjU2OTZjMTk1MjU0NGJkOTk2MDY3MTYwNzU2Mjg3Y2MpOwogICAgICAgICAgICAKCiAgICAgICAgICAgIG1hcmtlcl8xZWQzN2MxOTU5YzM0NjYxYjM1NGFhNmRlODQyNGUyNS5iaW5kUG9wdXAocG9wdXBfNzhiMDhhNjIxZGMxNDE1YzgzNzkzNzQzZTgyMmRkMGMpCiAgICAgICAgICAgIDsKCiAgICAgICAgICAgIAogICAgICAgIAogICAgCiAgICAgICAgdmFyIG1hcmtlcl8wYjYxMTY2ZjgyYWE0YTgwYmZkZjI2MGI3ZTQ5ZTk2MCA9IEwubWFya2VyKAogICAgICAgICAgICBbNDAuNzE0NjE5MDIxODAxNzMsIC03NC4wMTE2NTkyMTg4MjQ0Ml0sCiAgICAgICAgICAgIHsKICAgICAgICAgICAgICAgIGljb246IG5ldyBMLkljb24uRGVmYXVsdCgpLAogICAgICAgICAgICAgICAgfQogICAgICAgICAgICApLmFkZFRvKG1hcF83MDQ4NDJhYTI2Yjg0NjI2YTJkNTgyZGM5NjIwYzYxOCk7CiAgICAgICAgCiAgICAKICAgICAgICAgICAgdmFyIHBvcHVwXzRhNzNjZWM4YWVjYzRhMjNhNmQ3ODFmMzQ1N2ZiNzk2ID0gTC5wb3B1cCh7bWF4V2lkdGg6ICcxMDAlJwogICAgICAgICAgICAKICAgICAgICAgICAgfSk7CgogICAgICAgICAgICAKICAgICAgICAgICAgICAgIHZhciBodG1sXzRkZmNlYWFkOTRhNzQ2NmRiMzY2YjgzYzAyZmNkMGExID0gJChgPGRpdiBpZD0iaHRtbF80ZGZjZWFhZDk0YTc0NjZkYjM2NmI4M2MwMmZjZDBhMSIgc3R5bGU9IndpZHRoOiAxMDAuMCU7IGhlaWdodDogMTAwLjAlOyI+Rm9vZCBUcnVjazwvZGl2PmApWzBdOwogICAgICAgICAgICAgICAgcG9wdXBfNGE3M2NlYzhhZWNjNGEyM2E2ZDc4MWYzNDU3ZmI3OTYuc2V0Q29udGVudChodG1sXzRkZmNlYWFkOTRhNzQ2NmRiMzY2YjgzYzAyZmNkMGExKTsKICAgICAgICAgICAgCgogICAgICAgICAgICBtYXJrZXJfMGI2MTE2NmY4MmFhNGE4MGJmZGYyNjBiN2U0OWU5NjAuYmluZFBvcHVwKHBvcHVwXzRhNzNjZWM4YWVjYzRhMjNhNmQ3ODFmMzQ1N2ZiNzk2KQogICAgICAgICAgICA7CgogICAgICAgICAgICAKICAgICAgICAKICAgIAogICAgICAgIHZhciBtYXJrZXJfNTM2NWYxZjkyZDc5NDUzZmE2YWU1NzliMzAyY2E3MzIgPSBMLm1hcmtlcigKICAgICAgICAgICAgWzQwLjc0OTgzNDA1MTc1MzM3LCAtNzMuOTkxNjU0NTAyMTA5MTFdLAogICAgICAgICAgICB7CiAgICAgICAgICAgICAgICBpY29uOiBuZXcgTC5JY29uLkRlZmF1bHQoKSwKICAgICAgICAgICAgICAgIH0KICAgICAgICAgICAgKS5hZGRUbyhtYXBfNzA0ODQyYWEyNmI4NDYyNmEyZDU4MmRjOTYyMGM2MTgpOwogICAgICAgIAogICAgCiAgICAgICAgICAgIHZhciBwb3B1cF9lMWQ1NjczNjhlM2M0NmUzOTc3MDQwNTM3NjE1NTIzNSA9IEwucG9wdXAoe21heFdpZHRoOiAnMTAwJScKICAgICAgICAgICAgCiAgICAgICAgICAgIH0pOwoKICAgICAgICAgICAgCiAgICAgICAgICAgICAgICB2YXIgaHRtbF9jOTg0YzFlMGQwZDU0YTEwYTM2OTM2MjAzMjAwMTkyZSA9ICQoYDxkaXYgaWQ9Imh0bWxfYzk4NGMxZTBkMGQ1NGExMGEzNjkzNjIwMzIwMDE5MmUiIHN0eWxlPSJ3aWR0aDogMTAwLjAlOyBoZWlnaHQ6IDEwMC4wJTsiPkZvb2QgVHJ1Y2s8L2Rpdj5gKVswXTsKICAgICAgICAgICAgICAgIHBvcHVwX2UxZDU2NzM2OGUzYzQ2ZTM5NzcwNDA1Mzc2MTU1MjM1LnNldENvbnRlbnQoaHRtbF9jOTg0YzFlMGQwZDU0YTEwYTM2OTM2MjAzMjAwMTkyZSk7CiAgICAgICAgICAgIAoKICAgICAgICAgICAgbWFya2VyXzUzNjVmMWY5MmQ3OTQ1M2ZhNmFlNTc5YjMwMmNhNzMyLmJpbmRQb3B1cChwb3B1cF9lMWQ1NjczNjhlM2M0NmUzOTc3MDQwNTM3NjE1NTIzNSkKICAgICAgICAgICAgOwoKICAgICAgICAgICAgCiAgICAgICAgCiAgICAKICAgICAgICB2YXIgbWFya2VyX2Y0YWU4Y2JmN2E3NTQ5NjhhNWI0NzhmYWJlNTIxY2FmID0gTC5tYXJrZXIoCiAgICAgICAgICAgIFs0MC43MTUzOCwgLTc0LjAxMTI0Nl0sCiAgICAgICAgICAgIHsKICAgICAgICAgICAgICAgIGljb246IG5ldyBMLkljb24uRGVmYXVsdCgpLAogICAgICAgICAgICAgICAgfQogICAgICAgICAgICApLmFkZFRvKG1hcF83MDQ4NDJhYTI2Yjg0NjI2YTJkNTgyZGM5NjIwYzYxOCk7CiAgICAgICAgCiAgICAKICAgICAgICAgICAgdmFyIHBvcHVwX2U0MTdmZTM5MjJiZDQ2YjdhZDhjOGZhYWUwOGI4YTA5ID0gTC5wb3B1cCh7bWF4V2lkdGg6ICcxMDAlJwogICAgICAgICAgICAKICAgICAgICAgICAgfSk7CgogICAgICAgICAgICAKICAgICAgICAgICAgICAgIHZhciBodG1sX2Y3NDM5ZTliNWY5NzQ1NjU4Y2E0NDUyY2M0MTc5OWEwID0gJChgPGRpdiBpZD0iaHRtbF9mNzQzOWU5YjVmOTc0NTY1OGNhNDQ1MmNjNDE3OTlhMCIgc3R5bGU9IndpZHRoOiAxMDAuMCU7IGhlaWdodDogMTAwLjAlOyI+Rm9vZCBUcnVjazwvZGl2PmApWzBdOwogICAgICAgICAgICAgICAgcG9wdXBfZTQxN2ZlMzkyMmJkNDZiN2FkOGM4ZmFhZTA4YjhhMDkuc2V0Q29udGVudChodG1sX2Y3NDM5ZTliNWY5NzQ1NjU4Y2E0NDUyY2M0MTc5OWEwKTsKICAgICAgICAgICAgCgogICAgICAgICAgICBtYXJrZXJfZjRhZThjYmY3YTc1NDk2OGE1YjQ3OGZhYmU1MjFjYWYuYmluZFBvcHVwKHBvcHVwX2U0MTdmZTM5MjJiZDQ2YjdhZDhjOGZhYWUwOGI4YTA5KQogICAgICAgICAgICA7CgogICAgICAgICAgICAKICAgICAgICAKICAgIAogICAgICAgIHZhciBtYXJrZXJfMTI5YWExYWIwZDg2NGViY2I1NjFjMGJmMGE0ZDc5NWUgPSBMLm1hcmtlcigKICAgICAgICAgICAgWzQwLjcxMzMwNjU2NTE1ODkxLCAtNzQuMDA3OTk0MDU2OTg1MDFdLAogICAgICAgICAgICB7CiAgICAgICAgICAgICAgICBpY29uOiBuZXcgTC5JY29uLkRlZmF1bHQoKSwKICAgICAgICAgICAgICAgIH0KICAgICAgICAgICAgKS5hZGRUbyhtYXBfNzA0ODQyYWEyNmI4NDYyNmEyZDU4MmRjOTYyMGM2MTgpOwogICAgICAgIAogICAgCiAgICAgICAgICAgIHZhciBwb3B1cF80MmZmMGY3MWM1ZTA0ODEyYmY0MWVhNmE1NzUwNTZlYyA9IEwucG9wdXAoe21heFdpZHRoOiAnMTAwJScKICAgICAgICAgICAgCiAgICAgICAgICAgIH0pOwoKICAgICAgICAgICAgCiAgICAgICAgICAgICAgICB2YXIgaHRtbF9iZDM3Yzk5MjE3ZDE0YjkxODk1YzIwY2Q1ODlmZmZkYyA9ICQoYDxkaXYgaWQ9Imh0bWxfYmQzN2M5OTIxN2QxNGI5MTg5NWMyMGNkNTg5ZmZmZGMiIHN0eWxlPSJ3aWR0aDogMTAwLjAlOyBoZWlnaHQ6IDEwMC4wJTsiPkluZGlhbiBSZXN0YXVyYW50PC9kaXY+YClbMF07CiAgICAgICAgICAgICAgICBwb3B1cF80MmZmMGY3MWM1ZTA0ODEyYmY0MWVhNmE1NzUwNTZlYy5zZXRDb250ZW50KGh0bWxfYmQzN2M5OTIxN2QxNGI5MTg5NWMyMGNkNTg5ZmZmZGMpOwogICAgICAgICAgICAKCiAgICAgICAgICAgIG1hcmtlcl8xMjlhYTFhYjBkODY0ZWJjYjU2MWMwYmYwYTRkNzk1ZS5iaW5kUG9wdXAocG9wdXBfNDJmZjBmNzFjNWUwNDgxMmJmNDFlYTZhNTc1MDU2ZWMpCiAgICAgICAgICAgIDsKCiAgICAgICAgICAgIAogICAgICAgIAogICAgCiAgICAgICAgdmFyIG1hcmtlcl83MzRlOWMxMjBkOTE0OWZjOTAyNWM4ZWIzMzRjMzBiNiA9IEwubWFya2VyKAogICAgICAgICAgICBbNDAuNzA4NTg5MzA3ODAzNDE1LCAtNzQuMDA5OTI2MjQ4MDczNDNdLAogICAgICAgICAgICB7CiAgICAgICAgICAgICAgICBpY29uOiBuZXcgTC5JY29uLkRlZmF1bHQoKSwKICAgICAgICAgICAgICAgIH0KICAgICAgICAgICAgKS5hZGRUbyhtYXBfNzA0ODQyYWEyNmI4NDYyNmEyZDU4MmRjOTYyMGM2MTgpOwogICAgICAgIAogICAgCiAgICAgICAgICAgIHZhciBwb3B1cF84MWVmNGM3YjlkY2M0NWNiODhmYjFkNTI1NDk5YTYwNiA9IEwucG9wdXAoe21heFdpZHRoOiAnMTAwJScKICAgICAgICAgICAgCiAgICAgICAgICAgIH0pOwoKICAgICAgICAgICAgCiAgICAgICAgICAgICAgICB2YXIgaHRtbF8wMWEzZDdkZTJjYTY0NzdkYjljNWI4OWQyZTMxZTUxZSA9ICQoYDxkaXYgaWQ9Imh0bWxfMDFhM2Q3ZGUyY2E2NDc3ZGI5YzViODlkMmUzMWU1MWUiIHN0eWxlPSJ3aWR0aDogMTAwLjAlOyBoZWlnaHQ6IDEwMC4wJTsiPkZvb2QgVHJ1Y2s8L2Rpdj5gKVswXTsKICAgICAgICAgICAgICAgIHBvcHVwXzgxZWY0YzdiOWRjYzQ1Y2I4OGZiMWQ1MjU0OTlhNjA2LnNldENvbnRlbnQoaHRtbF8wMWEzZDdkZTJjYTY0NzdkYjljNWI4OWQyZTMxZTUxZSk7CiAgICAgICAgICAgIAoKICAgICAgICAgICAgbWFya2VyXzczNGU5YzEyMGQ5MTQ5ZmM5MDI1YzhlYjMzNGMzMGI2LmJpbmRQb3B1cChwb3B1cF84MWVmNGM3YjlkY2M0NWNiODhmYjFkNTI1NDk5YTYwNikKICAgICAgICAgICAgOwoKICAgICAgICAgICAgCiAgICAgICAgCiAgICAKICAgICAgICB2YXIgbWFya2VyXzI5YzQyODc0NmNjMzQ3YWViYmM0ZjIwN2E0NzY5ODBhID0gTC5tYXJrZXIoCiAgICAgICAgICAgIFs0MC43MTM2NDY4MDIxNzIyNSwgLTc0LjAwODM0Nzk4ODEyODY2XSwKICAgICAgICAgICAgewogICAgICAgICAgICAgICAgaWNvbjogbmV3IEwuSWNvbi5EZWZhdWx0KCksCiAgICAgICAgICAgICAgICB9CiAgICAgICAgICAgICkuYWRkVG8obWFwXzcwNDg0MmFhMjZiODQ2MjZhMmQ1ODJkYzk2MjBjNjE4KTsKICAgICAgICAKICAgIAogICAgICAgICAgICB2YXIgcG9wdXBfMWE5YjczMGEyNjBkNDc1NWFiMDQxNzA3NzBkZWVjNDggPSBMLnBvcHVwKHttYXhXaWR0aDogJzEwMCUnCiAgICAgICAgICAgIAogICAgICAgICAgICB9KTsKCiAgICAgICAgICAgIAogICAgICAgICAgICAgICAgdmFyIGh0bWxfY2VlNDY5Y2E2MzdmNGJiZmI0NGY4MDY3YzA2ZTU2NWUgPSAkKGA8ZGl2IGlkPSJodG1sX2NlZTQ2OWNhNjM3ZjRiYmZiNDRmODA2N2MwNmU1NjVlIiBzdHlsZT0id2lkdGg6IDEwMC4wJTsgaGVpZ2h0OiAxMDAuMCU7Ij5JbmRpYW4gUmVzdGF1cmFudDwvZGl2PmApWzBdOwogICAgICAgICAgICAgICAgcG9wdXBfMWE5YjczMGEyNjBkNDc1NWFiMDQxNzA3NzBkZWVjNDguc2V0Q29udGVudChodG1sX2NlZTQ2OWNhNjM3ZjRiYmZiNDRmODA2N2MwNmU1NjVlKTsKICAgICAgICAgICAgCgogICAgICAgICAgICBtYXJrZXJfMjljNDI4NzQ2Y2MzNDdhZWJiYzRmMjA3YTQ3Njk4MGEuYmluZFBvcHVwKHBvcHVwXzFhOWI3MzBhMjYwZDQ3NTVhYjA0MTcwNzcwZGVlYzQ4KQogICAgICAgICAgICA7CgogICAgICAgICAgICAKICAgICAgICAKICAgIAogICAgICAgIHZhciBtYXJrZXJfMTY1ZWFjZWQxZjUyNDljZGFhOTU3NjVhYTlmMmJjY2IgPSBMLm1hcmtlcigKICAgICAgICAgICAgWzQwLjcxMjI4MDU3MzExMjk1LCAtNzQuMDEwMTI4OTc0OTE0NTVdLAogICAgICAgICAgICB7CiAgICAgICAgICAgICAgICBpY29uOiBuZXcgTC5JY29uLkRlZmF1bHQoKSwKICAgICAgICAgICAgICAgIH0KICAgICAgICAgICAgKS5hZGRUbyhtYXBfNzA0ODQyYWEyNmI4NDYyNmEyZDU4MmRjOTYyMGM2MTgpOwogICAgICAgIAogICAgCiAgICAgICAgICAgIHZhciBwb3B1cF8yZTRmNjI5ZGZmYWQ0ZTlmYjNkYTE4NWExMWRiYWY2NCA9IEwucG9wdXAoe21heFdpZHRoOiAnMTAwJScKICAgICAgICAgICAgCiAgICAgICAgICAgIH0pOwoKICAgICAgICAgICAgCiAgICAgICAgICAgICAgICB2YXIgaHRtbF9hMjQxM2Y3ZTk2ZGM0NWRmOTk3ODViZDc4ODcxMmYxYSA9ICQoYDxkaXYgaWQ9Imh0bWxfYTI0MTNmN2U5NmRjNDVkZjk5Nzg1YmQ3ODg3MTJmMWEiIHN0eWxlPSJ3aWR0aDogMTAwLjAlOyBoZWlnaHQ6IDEwMC4wJTsiPkNsb3RoaW5nIFN0b3JlPC9kaXY+YClbMF07CiAgICAgICAgICAgICAgICBwb3B1cF8yZTRmNjI5ZGZmYWQ0ZTlmYjNkYTE4NWExMWRiYWY2NC5zZXRDb250ZW50KGh0bWxfYTI0MTNmN2U5NmRjNDVkZjk5Nzg1YmQ3ODg3MTJmMWEpOwogICAgICAgICAgICAKCiAgICAgICAgICAgIG1hcmtlcl8xNjVlYWNlZDFmNTI0OWNkYWE5NTc2NWFhOWYyYmNjYi5iaW5kUG9wdXAocG9wdXBfMmU0ZjYyOWRmZmFkNGU5ZmIzZGExODVhMTFkYmFmNjQpCiAgICAgICAgICAgIDsKCiAgICAgICAgICAgIAogICAgICAgIAogICAgCiAgICAgICAgdmFyIG1hcmtlcl8wZGFkYWI4MmE4ZGU0NmRiOTY4NzY3ZWIxY2FmNDI5MyA9IEwubWFya2VyKAogICAgICAgICAgICBbNDAuNzE2MTM1MjE4NzgwOTQsIC03NC4wMDY2MDk5MTY2ODcwMV0sCiAgICAgICAgICAgIHsKICAgICAgICAgICAgICAgIGljb246IG5ldyBMLkljb24uRGVmYXVsdCgpLAogICAgICAgICAgICAgICAgfQogICAgICAgICAgICApLmFkZFRvKG1hcF83MDQ4NDJhYTI2Yjg0NjI2YTJkNTgyZGM5NjIwYzYxOCk7CiAgICAgICAgCiAgICAKICAgICAgICAgICAgdmFyIHBvcHVwXzU5Yzc0N2E5Mzg5NzQyZWY4YjA4MjBiN2MxNjBiMDk0ID0gTC5wb3B1cCh7bWF4V2lkdGg6ICcxMDAlJwogICAgICAgICAgICAKICAgICAgICAgICAgfSk7CgogICAgICAgICAgICAKICAgICAgICAgICAgICAgIHZhciBodG1sXzJmNDAzZTkzOGE0YjRlOTRiMWVlZTMzMzk1MTkxM2JiID0gJChgPGRpdiBpZD0iaHRtbF8yZjQwM2U5MzhhNGI0ZTk0YjFlZWUzMzM5NTE5MTNiYiIgc3R5bGU9IndpZHRoOiAxMDAuMCU7IGhlaWdodDogMTAwLjAlOyI+RGVzaWduIFN0dWRpbzwvZGl2PmApWzBdOwogICAgICAgICAgICAgICAgcG9wdXBfNTljNzQ3YTkzODk3NDJlZjhiMDgyMGI3YzE2MGIwOTQuc2V0Q29udGVudChodG1sXzJmNDAzZTkzOGE0YjRlOTRiMWVlZTMzMzk1MTkxM2JiKTsKICAgICAgICAgICAgCgogICAgICAgICAgICBtYXJrZXJfMGRhZGFiODJhOGRlNDZkYjk2ODc2N2ViMWNhZjQyOTMuYmluZFBvcHVwKHBvcHVwXzU5Yzc0N2E5Mzg5NzQyZWY4YjA4MjBiN2MxNjBiMDk0KQogICAgICAgICAgICA7CgogICAgICAgICAgICAKICAgICAgICAKICAgIAogICAgICAgIHZhciBtYXJrZXJfYjg3ZGJjNzBjZGQ2NDEwMWI1Yzg0Zjk1NGUzN2JiZDAgPSBMLm1hcmtlcigKICAgICAgICAgICAgWzQwLjcxNTYxNCwgLTc0LjAwNzU0NV0sCiAgICAgICAgICAgIHsKICAgICAgICAgICAgICAgIGljb246IG5ldyBMLkljb24uRGVmYXVsdCgpLAogICAgICAgICAgICAgICAgfQogICAgICAgICAgICApLmFkZFRvKG1hcF83MDQ4NDJhYTI2Yjg0NjI2YTJkNTgyZGM5NjIwYzYxOCk7CiAgICAgICAgCiAgICAKICAgICAgICAgICAgdmFyIHBvcHVwXzY2ODA5NzkyMDFhZjQ1NDZiMjUxYmU0MmYzYjQ2MjVlID0gTC5wb3B1cCh7bWF4V2lkdGg6ICcxMDAlJwogICAgICAgICAgICAKICAgICAgICAgICAgfSk7CgogICAgICAgICAgICAKICAgICAgICAgICAgICAgIHZhciBodG1sX2ZmYzA3OGQ5YmMwOTQ0ZTlhMjBlZGVjMDQ2MWQyNDczID0gJChgPGRpdiBpZD0iaHRtbF9mZmMwNzhkOWJjMDk0NGU5YTIwZWRlYzA0NjFkMjQ3MyIgc3R5bGU9IndpZHRoOiAxMDAuMCU7IGhlaWdodDogMTAwLjAlOyI+SW5kaWFuIFJlc3RhdXJhbnQ8L2Rpdj5gKVswXTsKICAgICAgICAgICAgICAgIHBvcHVwXzY2ODA5NzkyMDFhZjQ1NDZiMjUxYmU0MmYzYjQ2MjVlLnNldENvbnRlbnQoaHRtbF9mZmMwNzhkOWJjMDk0NGU5YTIwZWRlYzA0NjFkMjQ3Myk7CiAgICAgICAgICAgIAoKICAgICAgICAgICAgbWFya2VyX2I4N2RiYzcwY2RkNjQxMDFiNWM4NGY5NTRlMzdiYmQwLmJpbmRQb3B1cChwb3B1cF82NjgwOTc5MjAxYWY0NTQ2YjI1MWJlNDJmM2I0NjI1ZSkKICAgICAgICAgICAgOwoKICAgICAgICAgICAgCiAgICAgICAgCiAgICAKICAgICAgICB2YXIgbWFya2VyXzJmMjc5ZDQ2YmM3YjQ2ZDg5ODQ0NzJkZDY0YmYxNDM0ID0gTC5tYXJrZXIoCiAgICAgICAgICAgIFs0MC43MDg4ODUxOTI4NzEwOTQsIC03NC4wMDkwOTQyMzgyODEyNV0sCiAgICAgICAgICAgIHsKICAgICAgICAgICAgICAgIGljb246IG5ldyBMLkljb24uRGVmYXVsdCgpLAogICAgICAgICAgICAgICAgfQogICAgICAgICAgICApLmFkZFRvKG1hcF83MDQ4NDJhYTI2Yjg0NjI2YTJkNTgyZGM5NjIwYzYxOCk7CiAgICAgICAgCiAgICAKICAgICAgICAgICAgdmFyIHBvcHVwXzY3ZDQyYTdiZjFjOTQzMDI4MDNjYmExYTQxYzIxMGIxID0gTC5wb3B1cCh7bWF4V2lkdGg6ICcxMDAlJwogICAgICAgICAgICAKICAgICAgICAgICAgfSk7CgogICAgICAgICAgICAKICAgICAgICAgICAgICAgIHZhciBodG1sX2M4NzMyZGU5NjU4YTRlZWRiMTM0YWI3Yjc3OWMzODEyID0gJChgPGRpdiBpZD0iaHRtbF9jODczMmRlOTY1OGE0ZWVkYjEzNGFiN2I3NzljMzgxMiIgc3R5bGU9IndpZHRoOiAxMDAuMCU7IGhlaWdodDogMTAwLjAlOyI+SW5kaWFuIFJlc3RhdXJhbnQ8L2Rpdj5gKVswXTsKICAgICAgICAgICAgICAgIHBvcHVwXzY3ZDQyYTdiZjFjOTQzMDI4MDNjYmExYTQxYzIxMGIxLnNldENvbnRlbnQoaHRtbF9jODczMmRlOTY1OGE0ZWVkYjEzNGFiN2I3NzljMzgxMik7CiAgICAgICAgICAgIAoKICAgICAgICAgICAgbWFya2VyXzJmMjc5ZDQ2YmM3YjQ2ZDg5ODQ0NzJkZDY0YmYxNDM0LmJpbmRQb3B1cChwb3B1cF82N2Q0MmE3YmYxYzk0MzAyODAzY2JhMWE0MWMyMTBiMSkKICAgICAgICAgICAgOwoKICAgICAgICAgICAgCiAgICAgICAgCiAgICAKICAgICAgICB2YXIgbWFya2VyXzE4NTdhMTg4MjkzNDRiZDE4ZDk4MjZmNGFjM2NhMjU0ID0gTC5tYXJrZXIoCiAgICAgICAgICAgIFs0MC43MTU3ODk0OTIzMzE2NCwgLTc0LjAwNzIyNzM2NDg1MDM0XSwKICAgICAgICAgICAgewogICAgICAgICAgICAgICAgaWNvbjogbmV3IEwuSWNvbi5EZWZhdWx0KCksCiAgICAgICAgICAgICAgICB9CiAgICAgICAgICAgICkuYWRkVG8obWFwXzcwNDg0MmFhMjZiODQ2MjZhMmQ1ODJkYzk2MjBjNjE4KTsKICAgICAgICAKICAgIAogICAgICAgICAgICB2YXIgcG9wdXBfMzE2ZTJkNWY3Mzc5NDE1Yjg2YzljZjZhYjE1M2MwMGIgPSBMLnBvcHVwKHttYXhXaWR0aDogJzEwMCUnCiAgICAgICAgICAgIAogICAgICAgICAgICB9KTsKCiAgICAgICAgICAgIAogICAgICAgICAgICAgICAgdmFyIGh0bWxfNWI3MWMzMmQxODBmNGMwZjhkODI2NjBlNDZlYWZiZTYgPSAkKGA8ZGl2IGlkPSJodG1sXzViNzFjMzJkMTgwZjRjMGY4ZDgyNjYwZTQ2ZWFmYmU2IiBzdHlsZT0id2lkdGg6IDEwMC4wJTsgaGVpZ2h0OiAxMDAuMCU7Ij5NaWRkbGUgRWFzdGVybiBSZXN0YXVyYW50PC9kaXY+YClbMF07CiAgICAgICAgICAgICAgICBwb3B1cF8zMTZlMmQ1ZjczNzk0MTViODZjOWNmNmFiMTUzYzAwYi5zZXRDb250ZW50KGh0bWxfNWI3MWMzMmQxODBmNGMwZjhkODI2NjBlNDZlYWZiZTYpOwogICAgICAgICAgICAKCiAgICAgICAgICAgIG1hcmtlcl8xODU3YTE4ODI5MzQ0YmQxOGQ5ODI2ZjRhYzNjYTI1NC5iaW5kUG9wdXAocG9wdXBfMzE2ZTJkNWY3Mzc5NDE1Yjg2YzljZjZhYjE1M2MwMGIpCiAgICAgICAgICAgIDsKCiAgICAgICAgICAgIAogICAgICAgIAogICAgCiAgICAgICAgdmFyIG1hcmtlcl80OWJiZWZlNmM2NmM0M2ZjOGJhMjY2ZjE4YjJjYTI1ZCA9IEwubWFya2VyKAogICAgICAgICAgICBbNDAuNzE2OTUzODE2NjU3NjksIC03NC4wMTA5MDUwOTY2MTQzMl0sCiAgICAgICAgICAgIHsKICAgICAgICAgICAgICAgIGljb246IG5ldyBMLkljb24uRGVmYXVsdCgpLAogICAgICAgICAgICAgICAgfQogICAgICAgICAgICApLmFkZFRvKG1hcF83MDQ4NDJhYTI2Yjg0NjI2YTJkNTgyZGM5NjIwYzYxOCk7CiAgICAgICAgCiAgICAKICAgICAgICAgICAgdmFyIHBvcHVwXzQ3ZmI0NGZlZDQzMzQyOGFiZWQ1MmI0MGQ3NDk1ODU0ID0gTC5wb3B1cCh7bWF4V2lkdGg6ICcxMDAlJwogICAgICAgICAgICAKICAgICAgICAgICAgfSk7CgogICAgICAgICAgICAKICAgICAgICAgICAgICAgIHZhciBodG1sX2Y3MzU5MDQyMWRkZDQ2ZDg4Yzg2MDk1YWZlNzNkYzgxID0gJChgPGRpdiBpZD0iaHRtbF9mNzM1OTA0MjFkZGQ0NmQ4OGM4NjA5NWFmZTczZGM4MSIgc3R5bGU9IndpZHRoOiAxMDAuMCU7IGhlaWdodDogMTAwLjAlOyI+SW5kaWFuIFJlc3RhdXJhbnQ8L2Rpdj5gKVswXTsKICAgICAgICAgICAgICAgIHBvcHVwXzQ3ZmI0NGZlZDQzMzQyOGFiZWQ1MmI0MGQ3NDk1ODU0LnNldENvbnRlbnQoaHRtbF9mNzM1OTA0MjFkZGQ0NmQ4OGM4NjA5NWFmZTczZGM4MSk7CiAgICAgICAgICAgIAoKICAgICAgICAgICAgbWFya2VyXzQ5YmJlZmU2YzY2YzQzZmM4YmEyNjZmMThiMmNhMjVkLmJpbmRQb3B1cChwb3B1cF80N2ZiNDRmZWQ0MzM0MjhhYmVkNTJiNDBkNzQ5NTg1NCkKICAgICAgICAgICAgOwoKICAgICAgICAgICAgCiAgICAgICAgCjwvc2NyaXB0Pg==\" style=\"position:absolute;width:100%;height:100%;left:0;top:0;border:none !important;\" allowfullscreen webkitallowfullscreen mozallowfullscreen></iframe></div></div>"
            ],
            "text/plain": [
              "<folium.folium.Map at 0x7feea8ae24e0>"
            ]
          },
          "metadata": {
            "tags": []
          },
          "execution_count": 14
        }
      ]
    },
    {
      "cell_type": "markdown",
      "metadata": {
        "id": "nKmZc1DfC9de",
        "colab_type": "text"
      },
      "source": [
        "### Map visualizing data in Toronto"
      ]
    },
    {
      "cell_type": "code",
      "metadata": {
        "id": "Fd3O5UkS-D0J",
        "colab_type": "code",
        "outputId": "fd5d5995-88c5-4d43-baa0-a2cc17c2ce71",
        "colab": {
          "base_uri": "https://localhost:8080/",
          "height": 656
        }
      },
      "source": [
        "address = 'Toronto, ON'\n",
        "\n",
        "geolocator = Nominatim(user_agent=\"foursquare_agent\")\n",
        "location = geolocator.geocode(address)\n",
        "latitude = location.latitude\n",
        "longitude = location.longitude\n",
        "\n",
        "venues_map_tor = folium.Map(location=[latitude, longitude], zoom_start=14) \n",
        "\n",
        "\n",
        "# add the Indian restaurants as blue circle markers\n",
        "for lat, lng, label in zip(df_fil_tor.lat, df_fil_tor.lng, df_fil_tor.categories):\n",
        "    folium.Marker(\n",
        "        [lat, lng],\n",
        "        popup=label,\n",
        "    ).add_to(venues_map_tor)\n",
        "\n",
        "# display map\n",
        "venues_map_tor"
      ],
      "execution_count": 15,
      "outputs": [
        {
          "output_type": "execute_result",
          "data": {
            "text/html": [
              "<div style=\"width:100%;\"><div style=\"position:relative;width:100%;height:0;padding-bottom:60%;\"><iframe src=\"data:text/html;charset=utf-8;base64,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\" style=\"position:absolute;width:100%;height:100%;left:0;top:0;border:none !important;\" allowfullscreen webkitallowfullscreen mozallowfullscreen></iframe></div></div>"
            ],
            "text/plain": [
              "<folium.folium.Map at 0x7feea6fbec18>"
            ]
          },
          "metadata": {
            "tags": []
          },
          "execution_count": 15
        }
      ]
    },
    {
      "cell_type": "markdown",
      "metadata": {
        "id": "6b9x-IFhynZp",
        "colab_type": "text"
      },
      "source": [
        "## Creating Tourism data for New York and Toronto"
      ]
    },
    {
      "cell_type": "markdown",
      "metadata": {
        "id": "hako4jL_yxUi",
        "colab_type": "text"
      },
      "source": [
        "### City of New York\n"
      ]
    },
    {
      "cell_type": "code",
      "metadata": {
        "id": "6aHSQLh4DQ5T",
        "colab_type": "code",
        "colab": {
          "base_uri": "https://localhost:8080/",
          "height": 237
        },
        "outputId": "2f0a03bd-603d-47a8-961e-8535265bd9c1"
      },
      "source": [
        "data = {'Years': [2013,2014,2015,2016,2017,2018],'TouristCount':[231000,259000,290000,322000,349000,358000]}\n",
        "df_tourist_nyc = pd.DataFrame(data)\n",
        "df_tourist_nyc"
      ],
      "execution_count": 20,
      "outputs": [
        {
          "output_type": "execute_result",
          "data": {
            "text/html": [
              "<div>\n",
              "<style scoped>\n",
              "    .dataframe tbody tr th:only-of-type {\n",
              "        vertical-align: middle;\n",
              "    }\n",
              "\n",
              "    .dataframe tbody tr th {\n",
              "        vertical-align: top;\n",
              "    }\n",
              "\n",
              "    .dataframe thead th {\n",
              "        text-align: right;\n",
              "    }\n",
              "</style>\n",
              "<table border=\"1\" class=\"dataframe\">\n",
              "  <thead>\n",
              "    <tr style=\"text-align: right;\">\n",
              "      <th></th>\n",
              "      <th>Years</th>\n",
              "      <th>TouristCount</th>\n",
              "    </tr>\n",
              "  </thead>\n",
              "  <tbody>\n",
              "    <tr>\n",
              "      <th>0</th>\n",
              "      <td>2013</td>\n",
              "      <td>231000</td>\n",
              "    </tr>\n",
              "    <tr>\n",
              "      <th>1</th>\n",
              "      <td>2014</td>\n",
              "      <td>259000</td>\n",
              "    </tr>\n",
              "    <tr>\n",
              "      <th>2</th>\n",
              "      <td>2015</td>\n",
              "      <td>290000</td>\n",
              "    </tr>\n",
              "    <tr>\n",
              "      <th>3</th>\n",
              "      <td>2016</td>\n",
              "      <td>322000</td>\n",
              "    </tr>\n",
              "    <tr>\n",
              "      <th>4</th>\n",
              "      <td>2017</td>\n",
              "      <td>349000</td>\n",
              "    </tr>\n",
              "    <tr>\n",
              "      <th>5</th>\n",
              "      <td>2018</td>\n",
              "      <td>358000</td>\n",
              "    </tr>\n",
              "  </tbody>\n",
              "</table>\n",
              "</div>"
            ],
            "text/plain": [
              "   Years  TouristCount\n",
              "0   2013        231000\n",
              "1   2014        259000\n",
              "2   2015        290000\n",
              "3   2016        322000\n",
              "4   2017        349000\n",
              "5   2018        358000"
            ]
          },
          "metadata": {
            "tags": []
          },
          "execution_count": 20
        }
      ]
    },
    {
      "cell_type": "code",
      "metadata": {
        "id": "b7BitgNGz4L0",
        "colab_type": "code",
        "colab": {
          "base_uri": "https://localhost:8080/",
          "height": 313
        },
        "outputId": "a597b1d6-f3d5-4d50-ecf7-b7334963c47b"
      },
      "source": [
        "import matplotlib.pyplot as plt\n",
        "\n",
        "\n",
        "plt.plot(df_tourist_nyc.Years,df_tourist_nyc.TouristCount)\n",
        "plt.xlabel('Years')\n",
        "plt.ylabel('Number of Tourists')\n",
        "plt.title('Number of Indian Tourists over the years')"
      ],
      "execution_count": 23,
      "outputs": [
        {
          "output_type": "execute_result",
          "data": {
            "text/plain": [
              "Text(0.5, 1.0, 'Number of Indian Tourists over the years')"
            ]
          },
          "metadata": {
            "tags": []
          },
          "execution_count": 23
        },
        {
          "output_type": "display_data",
          "data": {
            "image/png": "[encoded data removed]",
            "text/plain": [
              "<Figure size 432x288 with 1 Axes>"
            ]
          },
          "metadata": {
            "tags": []
          }
        }
      ]
    },
    {
      "cell_type": "code",
      "metadata": {
        "id": "wZkc_hq64o9_",
        "colab_type": "code",
        "colab": {}
      },
      "source": [
        ""
      ],
      "execution_count": 0,
      "outputs": []
    }
  ]
}